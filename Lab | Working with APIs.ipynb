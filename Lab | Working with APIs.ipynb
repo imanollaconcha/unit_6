{
 "cells": [
  {
   "cell_type": "code",
   "execution_count": 52,
   "metadata": {},
   "outputs": [],
   "source": [
    "# Import requests library\n",
    "import pandas as pd\n",
    "import requests\n",
    "import getpass"
   ]
  },
  {
   "cell_type": "code",
   "execution_count": 62,
   "metadata": {
    "scrolled": true
   },
   "outputs": [
    {
     "name": "stdout",
     "output_type": "stream",
     "text": [
      "········\n"
     ]
    }
   ],
   "source": [
    "# In order to hide my password\n",
    "rapidAPIkey = getpass.getpass()"
   ]
  },
  {
   "cell_type": "markdown",
   "metadata": {},
   "source": [
    "### Activity 1, Making a fuction"
   ]
  },
  {
   "cell_type": "code",
   "execution_count": 49,
   "metadata": {},
   "outputs": [],
   "source": [
    "def questions():\n",
    "    url = \"https://skyscanner-skyscanner-flight-search-v1.p.rapidapi.com/apiservices/autosuggest/v1.0/UK/GBP/en-GB/\"\n",
    "    city = input('Enter city name: ')\n",
    "    params = {\"query\":city.title()}\n",
    "\n",
    "    headers = {'x-rapidapi-host': \"skyscanner-skyscanner-flight-search-v1.p.rapidapi.com\",\n",
    "                      'x-rapidapi-key': rapidAPIkey}\n",
    "\n",
    "    response = requests.get(url, headers = headers, params = params)\n",
    "    return response.json()"
   ]
  },
  {
   "cell_type": "code",
   "execution_count": 51,
   "metadata": {
    "scrolled": true
   },
   "outputs": [
    {
     "name": "stdout",
     "output_type": "stream",
     "text": [
      "Enter city name: madrid\n"
     ]
    },
    {
     "data": {
      "text/plain": [
       "{'Places': [{'PlaceId': 'MAD-sky',\n",
       "   'PlaceName': 'Madrid',\n",
       "   'CountryId': 'ES-sky',\n",
       "   'RegionId': '',\n",
       "   'CityId': 'MADR-sky',\n",
       "   'CountryName': 'Spain'}]}"
      ]
     },
     "execution_count": 51,
     "metadata": {},
     "output_type": "execute_result"
    }
   ],
   "source": [
    "questions()"
   ]
  },
  {
   "cell_type": "code",
   "execution_count": 80,
   "metadata": {},
   "outputs": [
    {
     "data": {
      "text/plain": [
       "{'Quotes': [{'QuoteId': 1,\n",
       "   'MinPrice': 192,\n",
       "   'Direct': True,\n",
       "   'OutboundLeg': {'CarrierIds': [851],\n",
       "    'OriginId': 81727,\n",
       "    'DestinationId': 60987,\n",
       "    'DepartureDate': '2021-05-03T00:00:00'},\n",
       "   'QuoteDateTime': '2021-05-01T08:41:00'}],\n",
       " 'Carriers': [{'CarrierId': 851, 'Name': 'Alaska Airlines'}],\n",
       " 'Places': [{'Name': 'New York John F. Kennedy',\n",
       "   'Type': 'Station',\n",
       "   'PlaceId': 60987,\n",
       "   'IataCode': 'JFK',\n",
       "   'SkyscannerCode': 'JFK',\n",
       "   'CityName': 'New York',\n",
       "   'CityId': 'NYCA',\n",
       "   'CountryName': 'United States'},\n",
       "  {'Name': 'San Francisco International',\n",
       "   'Type': 'Station',\n",
       "   'PlaceId': 81727,\n",
       "   'IataCode': 'SFO',\n",
       "   'SkyscannerCode': 'SFO',\n",
       "   'CityName': 'San Francisco',\n",
       "   'CityId': 'SFOA',\n",
       "   'CountryName': 'United States'}],\n",
       " 'Currencies': [{'Code': 'USD',\n",
       "   'Symbol': '$',\n",
       "   'ThousandsSeparator': ',',\n",
       "   'DecimalSeparator': '.',\n",
       "   'SymbolOnLeft': True,\n",
       "   'SpaceBetweenAmountAndSymbol': False,\n",
       "   'RoundingCoefficient': 0,\n",
       "   'DecimalDigits': 2}]}"
      ]
     },
     "execution_count": 80,
     "metadata": {},
     "output_type": "execute_result"
    }
   ],
   "source": [
    "# Note: the date needs to be in the near future. \n",
    "# The date is included both in the endpoint url and in the inboundpartialdate\n",
    "\n",
    "url = \"https://skyscanner-skyscanner-flight-search-v1.p.rapidapi.com/apiservices/browsequotes/v1.0/US/USD/en-US/SFO-sky/NYCA-sky/2021-05-03\"\n",
    "\n",
    "params = {\"inboundpartialdate\":\"2021-05-03\"}\n",
    "\n",
    "headers = {\n",
    "    'x-rapidapi-host': \"skyscanner-skyscanner-flight-search-v1.p.rapidapi.com\",\n",
    "    'x-rapidapi-key': rapidAPIkey}\n",
    "\n",
    "response = requests.get(url, headers=headers, params=params)\n",
    "\n",
    "response.json()"
   ]
  },
  {
   "cell_type": "code",
   "execution_count": null,
   "metadata": {},
   "outputs": [],
   "source": [
    "# Acticity 2\n",
    "# We want to connect to the SkyScanner API and extract information from all the flights  \n",
    "# flying from Munich to Berlin.  \n",
    "# To do that you will need to get their city ID which you can  find in the first query \n",
    "# we used in the lesson.  In this activity you will just need to create a function \n",
    "# called city_code that takes a city_name(string-like, \"Mumbai\") as a parameter \n",
    "# and returns the city flight code."
   ]
  },
  {
   "cell_type": "code",
   "execution_count": 76,
   "metadata": {},
   "outputs": [],
   "source": [
    "# JSON example\n",
    "jsontxt = '''{'Quotes': [{'QuoteId': 1,\n",
    "   'MinPrice': 92.0,\n",
    "   'Direct': False,\n",
    "   'OutboundLeg': {'CarrierIds': [1065],\n",
    "    'OriginId': 81727,\n",
    "    'DestinationId': 50290,\n",
    "    'DepartureDate': '2020-12-12T00:00:00'},\n",
    "   'QuoteDateTime': '2020-09-21T10:49:00'},\n",
    "  {'QuoteId': 2,\n",
    "   'MinPrice': 133.0,\n",
    "   'Direct': True,\n",
    "   'OutboundLeg': {'CarrierIds': [851],\n",
    "    'OriginId': 81727,\n",
    "    'DestinationId': 50290,\n",
    "    'DepartureDate': '2020-12-12T00:00:00'},\n",
    "   'QuoteDateTime': '2020-09-21T10:49:00'}],\n",
    " 'Places': [{'PlaceId': 50290,\n",
    "   'IataCode': 'EWR',\n",
    "   'Name': 'New York Newark',\n",
    "   'Type': 'Station',\n",
    "   'SkyscannerCode': 'EWR',\n",
    "   'CityName': 'New York',\n",
    "   'CityId': 'NYCA',\n",
    "   'CountryName': 'United States'},\n",
    "  {'PlaceId': 60987,\n",
    "   'IataCode': 'JFK',\n",
    "   'Name': 'New York John F. Kennedy',\n",
    "   'Type': 'Station',\n",
    "   'SkyscannerCode': 'JFK',\n",
    "   'CityName': 'New York',\n",
    "   'CityId': 'NYCA',\n",
    "   'CountryName': 'United States'},\n",
    "  {'PlaceId': 65633,\n",
    "   'IataCode': 'LGA',\n",
    "   'Name': 'New York LaGuardia',\n",
    "   'Type': 'Station',\n",
    "   'SkyscannerCode': 'LGA',\n",
    "   'CityName': 'New York',\n",
    "   'CityId': 'NYCA',\n",
    "   'CountryName': 'United States'},\n",
    "  {'PlaceId': 81727,\n",
    "   'IataCode': 'SFO',\n",
    "   'Name': 'San Francisco International',\n",
    "   'Type': 'Station',\n",
    "   'SkyscannerCode': 'SFO',\n",
    "   'CityName': 'San Francisco',\n",
    "   'CityId': 'SFOA',\n",
    "   'CountryName': 'United States'}],\n",
    " 'Carriers': [{'CarrierId': 819, 'Name': 'Aegean Airlines'},\n",
    "  {'CarrierId': 851, 'Name': 'Alaska Airlines'},\n",
    "  {'CarrierId': 870, 'Name': 'jetBlue'},\n",
    "  {'CarrierId': 1065, 'Name': 'Frontier Airlines'},\n",
    "  {'CarrierId': 1721, 'Name': 'Sun Country Airlines'},\n",
    "  {'CarrierId': 1793, 'Name': 'United'},\n",
    "  {'CarrierId': 1902, 'Name': 'Southwest Airlines'}],\n",
    " 'Currencies': [{'Code': 'USD',\n",
    "   'Symbol': '$',\n",
    "   'ThousandsSeparator': ',',\n",
    "   'DecimalSeparator': '.',\n",
    "   'SymbolOnLeft': True,\n",
    "   'SpaceBetweenAmountAndSymbol': False,\n",
    "   'RoundingCoefficient': 0,\n",
    "   'DecimalDigits': 2}]}\n",
    "'''"
   ]
  },
  {
   "cell_type": "code",
   "execution_count": 81,
   "metadata": {},
   "outputs": [
    {
     "data": {
      "text/html": [
       "<div>\n",
       "<style scoped>\n",
       "    .dataframe tbody tr th:only-of-type {\n",
       "        vertical-align: middle;\n",
       "    }\n",
       "\n",
       "    .dataframe tbody tr th {\n",
       "        vertical-align: top;\n",
       "    }\n",
       "\n",
       "    .dataframe thead th {\n",
       "        text-align: right;\n",
       "    }\n",
       "</style>\n",
       "<table border=\"1\" class=\"dataframe\">\n",
       "  <thead>\n",
       "    <tr style=\"text-align: right;\">\n",
       "      <th></th>\n",
       "      <th>Quotes</th>\n",
       "      <th>Carriers</th>\n",
       "      <th>Places</th>\n",
       "      <th>Currencies</th>\n",
       "    </tr>\n",
       "  </thead>\n",
       "  <tbody>\n",
       "    <tr>\n",
       "      <th>0</th>\n",
       "      <td>[{'QuoteId': 1, 'MinPrice': 192, 'Direct': Tru...</td>\n",
       "      <td>[{'CarrierId': 851, 'Name': 'Alaska Airlines'}]</td>\n",
       "      <td>[{'Name': 'New York John F. Kennedy', 'Type': ...</td>\n",
       "      <td>[{'Code': 'USD', 'Symbol': '$', 'ThousandsSepa...</td>\n",
       "    </tr>\n",
       "  </tbody>\n",
       "</table>\n",
       "</div>"
      ],
      "text/plain": [
       "                                              Quotes  \\\n",
       "0  [{'QuoteId': 1, 'MinPrice': 192, 'Direct': Tru...   \n",
       "\n",
       "                                          Carriers  \\\n",
       "0  [{'CarrierId': 851, 'Name': 'Alaska Airlines'}]   \n",
       "\n",
       "                                              Places  \\\n",
       "0  [{'Name': 'New York John F. Kennedy', 'Type': ...   \n",
       "\n",
       "                                          Currencies  \n",
       "0  [{'Code': 'USD', 'Symbol': '$', 'ThousandsSepa...  "
      ]
     },
     "execution_count": 81,
     "metadata": {},
     "output_type": "execute_result"
    }
   ],
   "source": [
    "# Import libraries\n",
    "import pandas as pd\n",
    "import json\n",
    "\n",
    "# Normalize the response\n",
    "\n",
    "pd.json_normalize(response.json())\n",
    "# If this doesn't work, try to import json_normalize directly from pandas.io.json"
   ]
  },
  {
   "cell_type": "code",
   "execution_count": 85,
   "metadata": {},
   "outputs": [],
   "source": [
    "quotes = pd.DataFrame(pd.json_normalize(response.json())[\"Quotes\"][0])\n",
    "carriers = pd.DataFrame(pd.json_normalize(response.json())[\"Carriers\"][0])\n",
    "places = pd.DataFrame(pd.json_normalize(response.json())[\"Places\"][0])\n",
    "currencies = pd.DataFrame(pd.json_normalize(response.json())[\"Currencies\"][0])"
   ]
  },
  {
   "cell_type": "code",
   "execution_count": 88,
   "metadata": {},
   "outputs": [
    {
     "data": {
      "text/html": [
       "<div>\n",
       "<style scoped>\n",
       "    .dataframe tbody tr th:only-of-type {\n",
       "        vertical-align: middle;\n",
       "    }\n",
       "\n",
       "    .dataframe tbody tr th {\n",
       "        vertical-align: top;\n",
       "    }\n",
       "\n",
       "    .dataframe thead th {\n",
       "        text-align: right;\n",
       "    }\n",
       "</style>\n",
       "<table border=\"1\" class=\"dataframe\">\n",
       "  <thead>\n",
       "    <tr style=\"text-align: right;\">\n",
       "      <th></th>\n",
       "      <th>QuoteId</th>\n",
       "      <th>MinPrice</th>\n",
       "      <th>Direct</th>\n",
       "      <th>OutboundLeg</th>\n",
       "      <th>QuoteDateTime</th>\n",
       "    </tr>\n",
       "  </thead>\n",
       "  <tbody>\n",
       "    <tr>\n",
       "      <th>0</th>\n",
       "      <td>1</td>\n",
       "      <td>192</td>\n",
       "      <td>True</td>\n",
       "      <td>{'CarrierIds': [851], 'OriginId': 81727, 'Dest...</td>\n",
       "      <td>2021-05-01T08:41:00</td>\n",
       "    </tr>\n",
       "  </tbody>\n",
       "</table>\n",
       "</div>"
      ],
      "text/plain": [
       "   QuoteId  MinPrice  Direct  \\\n",
       "0        1       192    True   \n",
       "\n",
       "                                         OutboundLeg        QuoteDateTime  \n",
       "0  {'CarrierIds': [851], 'OriginId': 81727, 'Dest...  2021-05-01T08:41:00  "
      ]
     },
     "metadata": {},
     "output_type": "display_data"
    },
    {
     "data": {
      "text/html": [
       "<div>\n",
       "<style scoped>\n",
       "    .dataframe tbody tr th:only-of-type {\n",
       "        vertical-align: middle;\n",
       "    }\n",
       "\n",
       "    .dataframe tbody tr th {\n",
       "        vertical-align: top;\n",
       "    }\n",
       "\n",
       "    .dataframe thead th {\n",
       "        text-align: right;\n",
       "    }\n",
       "</style>\n",
       "<table border=\"1\" class=\"dataframe\">\n",
       "  <thead>\n",
       "    <tr style=\"text-align: right;\">\n",
       "      <th></th>\n",
       "      <th>CarrierId</th>\n",
       "      <th>Name</th>\n",
       "    </tr>\n",
       "  </thead>\n",
       "  <tbody>\n",
       "    <tr>\n",
       "      <th>0</th>\n",
       "      <td>851</td>\n",
       "      <td>Alaska Airlines</td>\n",
       "    </tr>\n",
       "  </tbody>\n",
       "</table>\n",
       "</div>"
      ],
      "text/plain": [
       "   CarrierId             Name\n",
       "0        851  Alaska Airlines"
      ]
     },
     "metadata": {},
     "output_type": "display_data"
    },
    {
     "data": {
      "text/html": [
       "<div>\n",
       "<style scoped>\n",
       "    .dataframe tbody tr th:only-of-type {\n",
       "        vertical-align: middle;\n",
       "    }\n",
       "\n",
       "    .dataframe tbody tr th {\n",
       "        vertical-align: top;\n",
       "    }\n",
       "\n",
       "    .dataframe thead th {\n",
       "        text-align: right;\n",
       "    }\n",
       "</style>\n",
       "<table border=\"1\" class=\"dataframe\">\n",
       "  <thead>\n",
       "    <tr style=\"text-align: right;\">\n",
       "      <th></th>\n",
       "      <th>Name</th>\n",
       "      <th>Type</th>\n",
       "      <th>PlaceId</th>\n",
       "      <th>IataCode</th>\n",
       "      <th>SkyscannerCode</th>\n",
       "      <th>CityName</th>\n",
       "      <th>CityId</th>\n",
       "      <th>CountryName</th>\n",
       "    </tr>\n",
       "  </thead>\n",
       "  <tbody>\n",
       "    <tr>\n",
       "      <th>0</th>\n",
       "      <td>New York John F. Kennedy</td>\n",
       "      <td>Station</td>\n",
       "      <td>60987</td>\n",
       "      <td>JFK</td>\n",
       "      <td>JFK</td>\n",
       "      <td>New York</td>\n",
       "      <td>NYCA</td>\n",
       "      <td>United States</td>\n",
       "    </tr>\n",
       "    <tr>\n",
       "      <th>1</th>\n",
       "      <td>San Francisco International</td>\n",
       "      <td>Station</td>\n",
       "      <td>81727</td>\n",
       "      <td>SFO</td>\n",
       "      <td>SFO</td>\n",
       "      <td>San Francisco</td>\n",
       "      <td>SFOA</td>\n",
       "      <td>United States</td>\n",
       "    </tr>\n",
       "  </tbody>\n",
       "</table>\n",
       "</div>"
      ],
      "text/plain": [
       "                          Name     Type  PlaceId IataCode SkyscannerCode  \\\n",
       "0     New York John F. Kennedy  Station    60987      JFK            JFK   \n",
       "1  San Francisco International  Station    81727      SFO            SFO   \n",
       "\n",
       "        CityName CityId    CountryName  \n",
       "0       New York   NYCA  United States  \n",
       "1  San Francisco   SFOA  United States  "
      ]
     },
     "metadata": {},
     "output_type": "display_data"
    },
    {
     "data": {
      "text/html": [
       "<div>\n",
       "<style scoped>\n",
       "    .dataframe tbody tr th:only-of-type {\n",
       "        vertical-align: middle;\n",
       "    }\n",
       "\n",
       "    .dataframe tbody tr th {\n",
       "        vertical-align: top;\n",
       "    }\n",
       "\n",
       "    .dataframe thead th {\n",
       "        text-align: right;\n",
       "    }\n",
       "</style>\n",
       "<table border=\"1\" class=\"dataframe\">\n",
       "  <thead>\n",
       "    <tr style=\"text-align: right;\">\n",
       "      <th></th>\n",
       "      <th>Code</th>\n",
       "      <th>Symbol</th>\n",
       "      <th>ThousandsSeparator</th>\n",
       "      <th>DecimalSeparator</th>\n",
       "      <th>SymbolOnLeft</th>\n",
       "      <th>SpaceBetweenAmountAndSymbol</th>\n",
       "      <th>RoundingCoefficient</th>\n",
       "      <th>DecimalDigits</th>\n",
       "    </tr>\n",
       "  </thead>\n",
       "  <tbody>\n",
       "    <tr>\n",
       "      <th>0</th>\n",
       "      <td>USD</td>\n",
       "      <td>$</td>\n",
       "      <td>,</td>\n",
       "      <td>.</td>\n",
       "      <td>True</td>\n",
       "      <td>False</td>\n",
       "      <td>0</td>\n",
       "      <td>2</td>\n",
       "    </tr>\n",
       "  </tbody>\n",
       "</table>\n",
       "</div>"
      ],
      "text/plain": [
       "  Code Symbol ThousandsSeparator DecimalSeparator  SymbolOnLeft  \\\n",
       "0  USD      $                  ,                .          True   \n",
       "\n",
       "   SpaceBetweenAmountAndSymbol  RoundingCoefficient  DecimalDigits  \n",
       "0                        False                    0              2  "
      ]
     },
     "metadata": {},
     "output_type": "display_data"
    }
   ],
   "source": [
    "display(quotes)\n",
    "display(carriers)\n",
    "display(places)\n",
    "display(currencies)"
   ]
  },
  {
   "cell_type": "code",
   "execution_count": 101,
   "metadata": {},
   "outputs": [],
   "source": [
    "flights = pd.DataFrame(pd.DataFrame(pd.json_normalize(response.json())[\"Quotes\"][0])[\"OutboundLeg\"][0])"
   ]
  },
  {
   "cell_type": "code",
   "execution_count": 102,
   "metadata": {},
   "outputs": [
    {
     "data": {
      "text/html": [
       "<div>\n",
       "<style scoped>\n",
       "    .dataframe tbody tr th:only-of-type {\n",
       "        vertical-align: middle;\n",
       "    }\n",
       "\n",
       "    .dataframe tbody tr th {\n",
       "        vertical-align: top;\n",
       "    }\n",
       "\n",
       "    .dataframe thead th {\n",
       "        text-align: right;\n",
       "    }\n",
       "</style>\n",
       "<table border=\"1\" class=\"dataframe\">\n",
       "  <thead>\n",
       "    <tr style=\"text-align: right;\">\n",
       "      <th></th>\n",
       "      <th>CarrierIds</th>\n",
       "      <th>OriginId</th>\n",
       "      <th>DestinationId</th>\n",
       "      <th>DepartureDate</th>\n",
       "    </tr>\n",
       "  </thead>\n",
       "  <tbody>\n",
       "    <tr>\n",
       "      <th>0</th>\n",
       "      <td>851</td>\n",
       "      <td>81727</td>\n",
       "      <td>60987</td>\n",
       "      <td>2021-04-29T00:00:00</td>\n",
       "    </tr>\n",
       "  </tbody>\n",
       "</table>\n",
       "</div>"
      ],
      "text/plain": [
       "   CarrierIds  OriginId  DestinationId        DepartureDate\n",
       "0         851     81727          60987  2021-04-29T00:00:00"
      ]
     },
     "execution_count": 102,
     "metadata": {},
     "output_type": "execute_result"
    }
   ],
   "source": [
    "flights"
   ]
  },
  {
   "cell_type": "code",
   "execution_count": null,
   "metadata": {},
   "outputs": [],
   "source": [
    "# putting all together:\n",
    "# we will create a function for which if we introduce two dates, \n",
    "# an origin and a destination we will get the data from the cheapest flight \n",
    "# between these two dates."
   ]
  },
  {
   "cell_type": "code",
   "execution_count": 127,
   "metadata": {},
   "outputs": [],
   "source": [
    "def city_code(city_name):\n",
    "    url = \"https://skyscanner-skyscanner-flight-search-v1.p.rapidapi.com/apiservices/autosuggest/v1.0/US/USD/en-US/\"\n",
    "    params = {\"query\": city_name}\n",
    "    headers = {'x-rapidapi-host': \"skyscanner-skyscanner-flight-search-v1.p.rapidapi.com\",\n",
    "               'x-rapidapi-key': rapidAPIkey}\n",
    "    response = requests.get(url, headers = headers, params = params)\n",
    "    return response.json()[\"Places\"][0][\"PlaceId\"]\n",
    "\n",
    "def flight_prices(departure, arrival, date):\n",
    "    departure_code = city_code(departure)\n",
    "    arrival_code = city_code(arrival)\n",
    "    url = f\"https://skyscanner-skyscanner-flight-search-v1.p.rapidapi.com/apiservices/browsequotes/v1.0/US/USD/en-US/{departure_code}/{arrival_code}/{date}\"\n",
    "    params = {\"inboundpartialdate\":{date}}\n",
    "    headers = {\n",
    "    'x-rapidapi-host': \"skyscanner-skyscanner-flight-search-v1.p.rapidapi.com\",\n",
    "    'x-rapidapi-key': rapidAPIkey}\n",
    "    response = requests.get(url, headers=headers, params=params)\n",
    "    return response.json()"
   ]
  },
  {
   "cell_type": "code",
   "execution_count": 128,
   "metadata": {},
   "outputs": [],
   "source": [
    "def get_dates(start, end):\n",
    "    return pd.Series(pd.date_range(start, end,freq='d').format())"
   ]
  },
  {
   "cell_type": "code",
   "execution_count": 129,
   "metadata": {},
   "outputs": [],
   "source": [
    "def flight_days(origin, destination, start, end):\n",
    "    dates = get_dates(start, end)\n",
    "    return {date:flight_prices(origin, destination, date) for date in dates}"
   ]
  },
  {
   "cell_type": "code",
   "execution_count": 136,
   "metadata": {},
   "outputs": [],
   "source": [
    "flights = flight_days(\"Amsterdam\", \"Madrid\", \"2021-05-10\", \"2021-05-14\")"
   ]
  },
  {
   "cell_type": "code",
   "execution_count": 141,
   "metadata": {},
   "outputs": [
    {
     "data": {
      "text/plain": [
       "[{'QuoteId': 1,\n",
       "  'MinPrice': 56,\n",
       "  'Direct': True,\n",
       "  'OutboundLeg': {'CarrierIds': [1816],\n",
       "   'OriginId': 40595,\n",
       "   'DestinationId': 67652,\n",
       "   'DepartureDate': '2021-05-10T00:00:00'},\n",
       "  'QuoteDateTime': '2021-05-01T08:53:00'}]"
      ]
     },
     "execution_count": 141,
     "metadata": {},
     "output_type": "execute_result"
    }
   ],
   "source": [
    "flights['2021-05-10']['Quotes']"
   ]
  },
  {
   "cell_type": "code",
   "execution_count": 130,
   "metadata": {},
   "outputs": [],
   "source": [
    "def lowest_price(origin, destination, start, end):\n",
    "    flights = flight_days(origin, destination, start, end)\n",
    "    prices = {date:min([quote[\"MinPrice\"] for quote in flights[date][\"Quotes\"]]) for date in flights for quote in flights[date][\"Quotes\"]}\n",
    "    return min(prices, key = prices.get)"
   ]
  },
  {
   "cell_type": "code",
   "execution_count": 134,
   "metadata": {},
   "outputs": [
    {
     "data": {
      "text/plain": [
       "'2021-05-14'"
      ]
     },
     "execution_count": 134,
     "metadata": {},
     "output_type": "execute_result"
    }
   ],
   "source": [
    "lowest_price(\"Amsterdam\", \"Madrid\", \"2021-05-10\", \"2021-05-14\")"
   ]
  },
  {
   "cell_type": "code",
   "execution_count": 142,
   "metadata": {},
   "outputs": [],
   "source": [
    "def lowest_price(origin, destination, start, end):\n",
    "    flights = flight_days(origin, destination, start, end)\n",
    "    prices = {date:min([quote[\"MinPrice\"] for quote in flights[date][\"Quotes\"]]) for date in flights}\n",
    "    return min(prices, key = prices.get)"
   ]
  },
  {
   "cell_type": "code",
   "execution_count": 143,
   "metadata": {},
   "outputs": [
    {
     "data": {
      "text/plain": [
       "'2021-05-14'"
      ]
     },
     "execution_count": 143,
     "metadata": {},
     "output_type": "execute_result"
    }
   ],
   "source": [
    "lowest_price(\"Amsterdam\", \"Madrid\", \"2021-05-10\", \"2021-05-14\")"
   ]
  },
  {
   "cell_type": "code",
   "execution_count": null,
   "metadata": {},
   "outputs": [],
   "source": []
  },
  {
   "cell_type": "code",
   "execution_count": null,
   "metadata": {},
   "outputs": [],
   "source": []
  }
 ],
 "metadata": {
  "kernelspec": {
   "display_name": "Python 3",
   "language": "python",
   "name": "python3"
  },
  "language_info": {
   "codemirror_mode": {
    "name": "ipython",
    "version": 3
   },
   "file_extension": ".py",
   "mimetype": "text/x-python",
   "name": "python",
   "nbconvert_exporter": "python",
   "pygments_lexer": "ipython3",
   "version": "3.9.2"
  }
 },
 "nbformat": 4,
 "nbformat_minor": 4
}
