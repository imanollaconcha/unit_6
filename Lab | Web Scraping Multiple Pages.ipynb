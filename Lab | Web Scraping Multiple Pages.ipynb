{
 "cells": [
  {
   "cell_type": "code",
   "execution_count": 62,
   "id": "sorted-school",
   "metadata": {},
   "outputs": [],
   "source": [
    "import pandas as pd\n",
    "from bs4 import BeautifulSoup\n",
    "import requests"
   ]
  },
  {
   "cell_type": "code",
   "execution_count": 63,
   "id": "conservative-rental",
   "metadata": {},
   "outputs": [],
   "source": [
    "url = 'https://en.wikipedia.org/wiki/List_of_songs_recorded_by_Miley_Cyrus'"
   ]
  },
  {
   "cell_type": "code",
   "execution_count": 64,
   "id": "personal-simpson",
   "metadata": {},
   "outputs": [
    {
     "data": {
      "text/plain": [
       "200"
      ]
     },
     "execution_count": 64,
     "metadata": {},
     "output_type": "execute_result"
    }
   ],
   "source": [
    "response = requests.get(url)\n",
    "response.status_code"
   ]
  },
  {
   "cell_type": "code",
   "execution_count": 65,
   "id": "editorial-wireless",
   "metadata": {},
   "outputs": [],
   "source": [
    "soup = BeautifulSoup(response.content, \"html.parser\")"
   ]
  },
  {
   "cell_type": "code",
   "execution_count": 66,
   "id": "incorporated-annex",
   "metadata": {},
   "outputs": [
    {
     "data": {
      "text/plain": [
       "[<a href=\"/wiki/A_Day_in_the_Life\" title=\"A Day in the Life\">A Day in the Life</a>]"
      ]
     },
     "execution_count": 66,
     "metadata": {},
     "output_type": "execute_result"
    }
   ],
   "source": [
    "soup.select('table:nth-child(13) > tbody > tr:nth-child(6) > th > a')"
   ]
  },
  {
   "cell_type": "markdown",
   "id": "extensive-therapy",
   "metadata": {},
   "source": [
    "## Practice web scraping"
   ]
  },
  {
   "cell_type": "markdown",
   "id": "sweet-symbol",
   "metadata": {},
   "source": [
    "### 1. Wikipedia links"
   ]
  },
  {
   "cell_type": "code",
   "execution_count": 96,
   "id": "latter-vermont",
   "metadata": {},
   "outputs": [],
   "source": [
    "url ='https://en.wikipedia.org/wiki/Python'\n",
    "response = requests.get(url)\n",
    "response.status_code\n",
    "soup = BeautifulSoup(response.content, \"html.parser\")"
   ]
  },
  {
   "cell_type": "code",
   "execution_count": 72,
   "id": "fantastic-dodge",
   "metadata": {},
   "outputs": [],
   "source": [
    "num_itr = len(soup.select('li:nth-child(1) > a'))"
   ]
  },
  {
   "cell_type": "code",
   "execution_count": 83,
   "id": "comparable-inventory",
   "metadata": {},
   "outputs": [],
   "source": [
    "name = []\n",
    "link = []\n",
    "for i in range(num_itr):\n",
    "    name.append(soup.select('li:nth-child(1) > a')[i].get_text())\n",
    "    link.append(soup.select('li:nth-child(1) > a')[i]['href'])"
   ]
  },
  {
   "cell_type": "code",
   "execution_count": 92,
   "id": "expected-backing",
   "metadata": {},
   "outputs": [],
   "source": [
    "links = pd.DataFrame({'name':name,\n",
    "                     'link':link\n",
    "                     })"
   ]
  },
  {
   "cell_type": "markdown",
   "id": "abstract-memory",
   "metadata": {},
   "source": [
    "### 2. number of titles that have changed in the United States Code"
   ]
  },
  {
   "cell_type": "code",
   "execution_count": 129,
   "id": "alive-coordinator",
   "metadata": {},
   "outputs": [],
   "source": [
    "url = 'https://uscode.house.gov/download/download.shtml'\n",
    "response = requests.get(url)\n",
    "response.status_code\n",
    "soup = BeautifulSoup(response.content, \"html.parser\")"
   ]
  },
  {
   "cell_type": "code",
   "execution_count": 148,
   "id": "smooth-dimension",
   "metadata": {},
   "outputs": [],
   "source": [
    "change = [0]\n",
    "for i in soup.select('div.usctitlechanged'):\n",
    "    change.append(i.get_text())"
   ]
  },
  {
   "cell_type": "markdown",
   "id": "romance-riverside",
   "metadata": {},
   "source": [
    "### 3. FBI's Most Wanted"
   ]
  },
  {
   "cell_type": "code",
   "execution_count": 97,
   "id": "constitutional-group",
   "metadata": {},
   "outputs": [],
   "source": [
    "url = 'https://www.fbi.gov/wanted/topten'\n",
    "response = requests.get(url)\n",
    "response.status_code\n",
    "soup = BeautifulSoup(response.content, \"html.parser\")"
   ]
  },
  {
   "cell_type": "code",
   "execution_count": 110,
   "id": "breathing-fellowship",
   "metadata": {},
   "outputs": [],
   "source": [
    "most_want = []\n",
    "for i in soup.select('h3 > a'):\n",
    "    most_want.append(i.get_text()"
   ]
  },
  {
   "cell_type": "code",
   "execution_count": 124,
   "id": "figured-sculpture",
   "metadata": {},
   "outputs": [],
   "source": [
    "most_want = list(map(lambda x: x.lower(), most_want))"
   ]
  },
  {
   "cell_type": "code",
   "execution_count": 127,
   "id": "respiratory-estate",
   "metadata": {},
   "outputs": [
    {
     "data": {
      "text/html": [
       "<div>\n",
       "<style scoped>\n",
       "    .dataframe tbody tr th:only-of-type {\n",
       "        vertical-align: middle;\n",
       "    }\n",
       "\n",
       "    .dataframe tbody tr th {\n",
       "        vertical-align: top;\n",
       "    }\n",
       "\n",
       "    .dataframe thead th {\n",
       "        text-align: right;\n",
       "    }\n",
       "</style>\n",
       "<table border=\"1\" class=\"dataframe\">\n",
       "  <thead>\n",
       "    <tr style=\"text-align: right;\">\n",
       "      <th></th>\n",
       "      <th>person</th>\n",
       "    </tr>\n",
       "  </thead>\n",
       "  <tbody>\n",
       "    <tr>\n",
       "      <th>0</th>\n",
       "      <td>rafael caro-quintero</td>\n",
       "    </tr>\n",
       "    <tr>\n",
       "      <th>1</th>\n",
       "      <td>bhadreshkumar chetanbhai patel</td>\n",
       "    </tr>\n",
       "    <tr>\n",
       "      <th>2</th>\n",
       "      <td>robert william fisher</td>\n",
       "    </tr>\n",
       "    <tr>\n",
       "      <th>3</th>\n",
       "      <td>alejandro rosales castillo</td>\n",
       "    </tr>\n",
       "    <tr>\n",
       "      <th>4</th>\n",
       "      <td>arnoldo jimenez</td>\n",
       "    </tr>\n",
       "    <tr>\n",
       "      <th>5</th>\n",
       "      <td>jason derek brown</td>\n",
       "    </tr>\n",
       "    <tr>\n",
       "      <th>6</th>\n",
       "      <td>alexis flores</td>\n",
       "    </tr>\n",
       "    <tr>\n",
       "      <th>7</th>\n",
       "      <td>jose rodolfo villarreal-hernandez</td>\n",
       "    </tr>\n",
       "    <tr>\n",
       "      <th>8</th>\n",
       "      <td>eugene palmer</td>\n",
       "    </tr>\n",
       "    <tr>\n",
       "      <th>9</th>\n",
       "      <td>yaser abdel said</td>\n",
       "    </tr>\n",
       "  </tbody>\n",
       "</table>\n",
       "</div>"
      ],
      "text/plain": [
       "                              person\n",
       "0               rafael caro-quintero\n",
       "1     bhadreshkumar chetanbhai patel\n",
       "2              robert william fisher\n",
       "3         alejandro rosales castillo\n",
       "4                    arnoldo jimenez\n",
       "5                  jason derek brown\n",
       "6                      alexis flores\n",
       "7  jose rodolfo villarreal-hernandez\n",
       "8                      eugene palmer\n",
       "9                   yaser abdel said"
      ]
     },
     "execution_count": 127,
     "metadata": {},
     "output_type": "execute_result"
    }
   ],
   "source": [
    "wanted = pd.DataFrame({'person':most_want})\n",
    "wanted"
   ]
  },
  {
   "cell_type": "markdown",
   "id": "existing-internship",
   "metadata": {},
   "source": [
    "### 4. Earthquake "
   ]
  },
  {
   "cell_type": "code",
   "execution_count": 168,
   "id": "healthy-thong",
   "metadata": {},
   "outputs": [],
   "source": [
    "url = 'https://www.emsc-csem.org/Earthquake/'\n",
    "response = requests.get(url)\n",
    "response.status_code\n",
    "soup = BeautifulSoup(response.content, \"html.parser\")"
   ]
  },
  {
   "cell_type": "code",
   "execution_count": 186,
   "id": "sixth-pathology",
   "metadata": {},
   "outputs": [],
   "source": [
    "country = []\n",
    "lat = []\n",
    "lon = []\n",
    "for i in range(len(soup.select('td.tb_region'))):\n",
    "    country.append(soup.select('td.tb_region')[i].get_text())\n",
    "    lat.append(soup.select('td.tabev1')[i].get_text())"
   ]
  }
 ],
 "metadata": {
  "kernelspec": {
   "display_name": "Python 3",
   "language": "python",
   "name": "python3"
  },
  "language_info": {
   "codemirror_mode": {
    "name": "ipython",
    "version": 3
   },
   "file_extension": ".py",
   "mimetype": "text/x-python",
   "name": "python",
   "nbconvert_exporter": "python",
   "pygments_lexer": "ipython3",
   "version": "3.9.2"
  }
 },
 "nbformat": 4,
 "nbformat_minor": 5
}
