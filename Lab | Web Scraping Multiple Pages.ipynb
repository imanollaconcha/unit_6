{
 "cells": [
  {
   "cell_type": "code",
   "execution_count": 3,
   "id": "sorted-school",
   "metadata": {},
   "outputs": [],
   "source": [
    "import pandas as pd\n",
    "from bs4 import BeautifulSoup\n",
    "import requests"
   ]
  },
  {
   "cell_type": "code",
   "execution_count": 4,
   "id": "conservative-rental",
   "metadata": {},
   "outputs": [],
   "source": [
    "url = 'https://en.wikipedia.org/wiki/List_of_songs_recorded_by_Miley_Cyrus'"
   ]
  },
  {
   "cell_type": "code",
   "execution_count": 5,
   "id": "personal-simpson",
   "metadata": {},
   "outputs": [
    {
     "data": {
      "text/plain": [
       "200"
      ]
     },
     "execution_count": 5,
     "metadata": {},
     "output_type": "execute_result"
    }
   ],
   "source": [
    "response = requests.get(url)\n",
    "response.status_code"
   ]
  },
  {
   "cell_type": "code",
   "execution_count": 6,
   "id": "editorial-wireless",
   "metadata": {},
   "outputs": [],
   "source": [
    "soup = BeautifulSoup(response.content, \"html.parser\")"
   ]
  },
  {
   "cell_type": "code",
   "execution_count": 7,
   "id": "incorporated-annex",
   "metadata": {},
   "outputs": [
    {
     "data": {
      "text/plain": [
       "[<a href=\"/wiki/A_Day_in_the_Life\" title=\"A Day in the Life\">A Day in the Life</a>]"
      ]
     },
     "execution_count": 7,
     "metadata": {},
     "output_type": "execute_result"
    }
   ],
   "source": [
    "soup.select('table:nth-child(13) > tbody > tr:nth-child(6) > th > a')"
   ]
  },
  {
   "cell_type": "markdown",
   "id": "extensive-therapy",
   "metadata": {},
   "source": [
    "## Practice web scraping"
   ]
  },
  {
   "cell_type": "markdown",
   "id": "sweet-symbol",
   "metadata": {},
   "source": [
    "### 1. Wikipedia Python links"
   ]
  },
  {
   "cell_type": "code",
   "execution_count": 8,
   "id": "latter-vermont",
   "metadata": {},
   "outputs": [],
   "source": [
    "url ='https://en.wikipedia.org/wiki/Python'\n",
    "response = requests.get(url)\n",
    "response.status_code\n",
    "soup = BeautifulSoup(response.content, \"html.parser\")"
   ]
  },
  {
   "cell_type": "code",
   "execution_count": 9,
   "id": "fantastic-dodge",
   "metadata": {},
   "outputs": [],
   "source": [
    "num_itr = len(soup.select('li:nth-child(1) > a'))"
   ]
  },
  {
   "cell_type": "code",
   "execution_count": 10,
   "id": "comparable-inventory",
   "metadata": {},
   "outputs": [],
   "source": [
    "name = []\n",
    "link = []\n",
    "for i in range(num_itr):\n",
    "    name.append(soup.select('li:nth-child(1) > a')[i].get_text())\n",
    "    link.append(soup.select('li:nth-child(1) > a')[i]['href'])"
   ]
  },
  {
   "cell_type": "code",
   "execution_count": 11,
   "id": "expected-backing",
   "metadata": {},
   "outputs": [
    {
     "data": {
      "text/html": [
       "<div>\n",
       "<style scoped>\n",
       "    .dataframe tbody tr th:only-of-type {\n",
       "        vertical-align: middle;\n",
       "    }\n",
       "\n",
       "    .dataframe tbody tr th {\n",
       "        vertical-align: top;\n",
       "    }\n",
       "\n",
       "    .dataframe thead th {\n",
       "        text-align: right;\n",
       "    }\n",
       "</style>\n",
       "<table border=\"1\" class=\"dataframe\">\n",
       "  <thead>\n",
       "    <tr style=\"text-align: right;\">\n",
       "      <th></th>\n",
       "      <th>name</th>\n",
       "      <th>link</th>\n",
       "    </tr>\n",
       "  </thead>\n",
       "  <tbody>\n",
       "    <tr>\n",
       "      <th>0</th>\n",
       "      <td>Pythons</td>\n",
       "      <td>/wiki/Pythons</td>\n",
       "    </tr>\n",
       "    <tr>\n",
       "      <th>1</th>\n",
       "      <td>Python (genus)</td>\n",
       "      <td>/wiki/Python_(genus)</td>\n",
       "    </tr>\n",
       "    <tr>\n",
       "      <th>2</th>\n",
       "      <td>1 Computing</td>\n",
       "      <td>#Computing</td>\n",
       "    </tr>\n",
       "  </tbody>\n",
       "</table>\n",
       "</div>"
      ],
      "text/plain": [
       "             name                  link\n",
       "0         Pythons         /wiki/Pythons\n",
       "1  Python (genus)  /wiki/Python_(genus)\n",
       "2     1 Computing            #Computing"
      ]
     },
     "execution_count": 11,
     "metadata": {},
     "output_type": "execute_result"
    }
   ],
   "source": [
    "wiki_links = pd.DataFrame({'name':name,'link':link})\n",
    "wiki_links.head(3)"
   ]
  },
  {
   "cell_type": "markdown",
   "id": "abstract-memory",
   "metadata": {},
   "source": [
    "### 2. Number of titles that have changed in the United States Code"
   ]
  },
  {
   "cell_type": "code",
   "execution_count": 12,
   "id": "alive-coordinator",
   "metadata": {},
   "outputs": [],
   "source": [
    "url = 'https://uscode.house.gov/download/download.shtml'\n",
    "response = requests.get(url)\n",
    "response.status_code\n",
    "soup = BeautifulSoup(response.content, \"html.parser\")"
   ]
  },
  {
   "cell_type": "code",
   "execution_count": 13,
   "id": "smooth-dimension",
   "metadata": {},
   "outputs": [],
   "source": [
    "change = []\n",
    "for i in soup.select('div.usctitlechanged'):\n",
    "    change.append(i.get_text())"
   ]
  },
  {
   "cell_type": "code",
   "execution_count": 14,
   "id": "atomic-likelihood",
   "metadata": {},
   "outputs": [
    {
     "name": "stdout",
     "output_type": "stream",
     "text": [
      "Numeber of titles changed in USA Code are 4\n"
     ]
    }
   ],
   "source": [
    "print('Numeber of titles changed in USA Code are', len(change))"
   ]
  },
  {
   "cell_type": "markdown",
   "id": "romance-riverside",
   "metadata": {},
   "source": [
    "### 3. FBI's Most Wanted"
   ]
  },
  {
   "cell_type": "code",
   "execution_count": 15,
   "id": "constitutional-group",
   "metadata": {},
   "outputs": [],
   "source": [
    "url = 'https://www.fbi.gov/wanted/topten'\n",
    "response = requests.get(url)\n",
    "response.status_code\n",
    "soup = BeautifulSoup(response.content, \"html.parser\")"
   ]
  },
  {
   "cell_type": "code",
   "execution_count": 16,
   "id": "breathing-fellowship",
   "metadata": {},
   "outputs": [],
   "source": [
    "most_want = []\n",
    "for i in soup.select('h3 > a'):\n",
    "    most_want.append(i.get_text().title())"
   ]
  },
  {
   "cell_type": "code",
   "execution_count": 17,
   "id": "respiratory-estate",
   "metadata": {},
   "outputs": [
    {
     "data": {
      "text/html": [
       "<div>\n",
       "<style scoped>\n",
       "    .dataframe tbody tr th:only-of-type {\n",
       "        vertical-align: middle;\n",
       "    }\n",
       "\n",
       "    .dataframe tbody tr th {\n",
       "        vertical-align: top;\n",
       "    }\n",
       "\n",
       "    .dataframe thead th {\n",
       "        text-align: right;\n",
       "    }\n",
       "</style>\n",
       "<table border=\"1\" class=\"dataframe\">\n",
       "  <thead>\n",
       "    <tr style=\"text-align: right;\">\n",
       "      <th></th>\n",
       "      <th>person</th>\n",
       "    </tr>\n",
       "  </thead>\n",
       "  <tbody>\n",
       "    <tr>\n",
       "      <th>0</th>\n",
       "      <td>Rafael Caro-Quintero</td>\n",
       "    </tr>\n",
       "    <tr>\n",
       "      <th>1</th>\n",
       "      <td>Bhadreshkumar Chetanbhai Patel</td>\n",
       "    </tr>\n",
       "    <tr>\n",
       "      <th>2</th>\n",
       "      <td>Robert William Fisher</td>\n",
       "    </tr>\n",
       "  </tbody>\n",
       "</table>\n",
       "</div>"
      ],
      "text/plain": [
       "                           person\n",
       "0            Rafael Caro-Quintero\n",
       "1  Bhadreshkumar Chetanbhai Patel\n",
       "2           Robert William Fisher"
      ]
     },
     "execution_count": 17,
     "metadata": {},
     "output_type": "execute_result"
    }
   ],
   "source": [
    "most_wanted = pd.DataFrame({'person':most_want})\n",
    "most_wanted.head(3)"
   ]
  },
  {
   "cell_type": "markdown",
   "id": "existing-internship",
   "metadata": {},
   "source": [
    "### 4. Earthquake "
   ]
  },
  {
   "cell_type": "code",
   "execution_count": 18,
   "id": "healthy-thong",
   "metadata": {},
   "outputs": [],
   "source": [
    "url = 'https://www.emsc-csem.org/Earthquake/'\n",
    "response = requests.get(url)\n",
    "response.status_code\n",
    "soup = BeautifulSoup(response.content, \"html.parser\")"
   ]
  },
  {
   "cell_type": "code",
   "execution_count": 19,
   "id": "atlantic-address",
   "metadata": {},
   "outputs": [],
   "source": [
    "country = []\n",
    "lat = []\n",
    "lon = []\n",
    "date = []\n",
    "hour = []\n",
    "for i in range(len(soup.select('td.tb_region'))):\n",
    "    country.append(soup.select('td.tb_region')[i].get_text().replace('\\xa0','').title())\n",
    "    lat.append(soup.select('td.tabev1')[i*2].get_text().replace('\\xa0',''))\n",
    "    lon.append(soup.select('td.tabev1')[i*2+1].get_text().replace('\\xa0',''))\n",
    "    date.append(soup.select('td.tabev6 > b > a')[i].get_text()[0:10])\n",
    "    hour.append(soup.select('td.tabev6 > b > a')[i].get_text()[-10:-2])"
   ]
  },
  {
   "cell_type": "code",
   "execution_count": 20,
   "id": "desperate-collect",
   "metadata": {},
   "outputs": [
    {
     "data": {
      "text/html": [
       "<div>\n",
       "<style scoped>\n",
       "    .dataframe tbody tr th:only-of-type {\n",
       "        vertical-align: middle;\n",
       "    }\n",
       "\n",
       "    .dataframe tbody tr th {\n",
       "        vertical-align: top;\n",
       "    }\n",
       "\n",
       "    .dataframe thead th {\n",
       "        text-align: right;\n",
       "    }\n",
       "</style>\n",
       "<table border=\"1\" class=\"dataframe\">\n",
       "  <thead>\n",
       "    <tr style=\"text-align: right;\">\n",
       "      <th></th>\n",
       "      <th>Region</th>\n",
       "      <th>Date</th>\n",
       "      <th>Hour</th>\n",
       "      <th>Latitude</th>\n",
       "      <th>Longitude</th>\n",
       "    </tr>\n",
       "  </thead>\n",
       "  <tbody>\n",
       "    <tr>\n",
       "      <th>0</th>\n",
       "      <td>Southern Alaska</td>\n",
       "      <td>2021-04-27</td>\n",
       "      <td>17:54:35</td>\n",
       "      <td>61.33</td>\n",
       "      <td>149.99</td>\n",
       "    </tr>\n",
       "    <tr>\n",
       "      <th>1</th>\n",
       "      <td>Island Of Hawaii, Hawaii</td>\n",
       "      <td>2021-04-27</td>\n",
       "      <td>17:48:53</td>\n",
       "      <td>19.22</td>\n",
       "      <td>155.43</td>\n",
       "    </tr>\n",
       "    <tr>\n",
       "      <th>2</th>\n",
       "      <td>Greece</td>\n",
       "      <td>2021-04-27</td>\n",
       "      <td>17:48:36</td>\n",
       "      <td>40.62</td>\n",
       "      <td>21.59</td>\n",
       "    </tr>\n",
       "  </tbody>\n",
       "</table>\n",
       "</div>"
      ],
      "text/plain": [
       "                     Region        Date      Hour Latitude Longitude\n",
       "0           Southern Alaska  2021-04-27  17:54:35    61.33    149.99\n",
       "1  Island Of Hawaii, Hawaii  2021-04-27  17:48:53    19.22    155.43\n",
       "2                    Greece  2021-04-27  17:48:36    40.62     21.59"
      ]
     },
     "execution_count": 20,
     "metadata": {},
     "output_type": "execute_result"
    }
   ],
   "source": [
    "earthquake = pd.DataFrame({'Region':country,'Date':date,'Hour':hour,'Latitude':lat,'Longitude':lon})\n",
    "earthquake.head(3)"
   ]
  },
  {
   "cell_type": "markdown",
   "id": "incredible-experiment",
   "metadata": {},
   "source": [
    "### 5.Language names and number of related articles"
   ]
  },
  {
   "cell_type": "code",
   "execution_count": 21,
   "id": "based-reply",
   "metadata": {},
   "outputs": [],
   "source": [
    "url = 'https://www.wikipedia.org/'\n",
    "response = requests.get(url)\n",
    "response.status_code\n",
    "soup = BeautifulSoup(response.content, \"html.parser\")"
   ]
  },
  {
   "cell_type": "code",
   "execution_count": 22,
   "id": "elementary-artist",
   "metadata": {},
   "outputs": [],
   "source": [
    "country = []\n",
    "art = []\n",
    "\n",
    "for i in range(len(soup.select('strong'))-2):\n",
    "    country.append(soup.select('strong')[i+1].get_text())\n",
    "\n",
    "for i in range(len(soup.select('small > bdi'))):\n",
    "    art.append(soup.select('small > bdi')[i].get_text().replace('\\xa0',' '))"
   ]
  },
  {
   "cell_type": "code",
   "execution_count": 23,
   "id": "immediate-quilt",
   "metadata": {
    "scrolled": true
   },
   "outputs": [
    {
     "data": {
      "text/html": [
       "<div>\n",
       "<style scoped>\n",
       "    .dataframe tbody tr th:only-of-type {\n",
       "        vertical-align: middle;\n",
       "    }\n",
       "\n",
       "    .dataframe tbody tr th {\n",
       "        vertical-align: top;\n",
       "    }\n",
       "\n",
       "    .dataframe thead th {\n",
       "        text-align: right;\n",
       "    }\n",
       "</style>\n",
       "<table border=\"1\" class=\"dataframe\">\n",
       "  <thead>\n",
       "    <tr style=\"text-align: right;\">\n",
       "      <th></th>\n",
       "      <th>Country</th>\n",
       "      <th>Number of articles</th>\n",
       "    </tr>\n",
       "  </thead>\n",
       "  <tbody>\n",
       "    <tr>\n",
       "      <th>0</th>\n",
       "      <td>English</td>\n",
       "      <td>6 287 000+</td>\n",
       "    </tr>\n",
       "    <tr>\n",
       "      <th>1</th>\n",
       "      <td>Español</td>\n",
       "      <td>1 677 000+</td>\n",
       "    </tr>\n",
       "    <tr>\n",
       "      <th>2</th>\n",
       "      <td>日本語</td>\n",
       "      <td>1 265 000+</td>\n",
       "    </tr>\n",
       "  </tbody>\n",
       "</table>\n",
       "</div>"
      ],
      "text/plain": [
       "   Country Number of articles\n",
       "0  English         6 287 000+\n",
       "1  Español         1 677 000+\n",
       "2      日本語         1 265 000+"
      ]
     },
     "execution_count": 23,
     "metadata": {},
     "output_type": "execute_result"
    }
   ],
   "source": [
    "wiki_art = pd.DataFrame({'Country':country,'Number of articles':art})\n",
    "wiki_art.head(3)"
   ]
  },
  {
   "cell_type": "markdown",
   "id": "understood-monroe",
   "metadata": {},
   "source": [
    "### 6. Different kind of datasets available in data.gov.uk:"
   ]
  },
  {
   "cell_type": "code",
   "execution_count": 24,
   "id": "round-grant",
   "metadata": {},
   "outputs": [],
   "source": [
    "url = 'https://data.gov.uk/'\n",
    "response = requests.get(url)\n",
    "response.status_code\n",
    "soup = BeautifulSoup(response.content, \"html.parser\")"
   ]
  },
  {
   "cell_type": "code",
   "execution_count": 25,
   "id": "composite-horizon",
   "metadata": {},
   "outputs": [],
   "source": [
    "data_base = []\n",
    "for i in range(len(soup.select('h3 > a'))):\n",
    "    data_base.append(soup.select('h3 > a')[i].get_text())"
   ]
  },
  {
   "cell_type": "code",
   "execution_count": 26,
   "id": "canadian-parent",
   "metadata": {
    "scrolled": true
   },
   "outputs": [
    {
     "data": {
      "text/html": [
       "<div>\n",
       "<style scoped>\n",
       "    .dataframe tbody tr th:only-of-type {\n",
       "        vertical-align: middle;\n",
       "    }\n",
       "\n",
       "    .dataframe tbody tr th {\n",
       "        vertical-align: top;\n",
       "    }\n",
       "\n",
       "    .dataframe thead th {\n",
       "        text-align: right;\n",
       "    }\n",
       "</style>\n",
       "<table border=\"1\" class=\"dataframe\">\n",
       "  <thead>\n",
       "    <tr style=\"text-align: right;\">\n",
       "      <th></th>\n",
       "      <th>Data base</th>\n",
       "    </tr>\n",
       "  </thead>\n",
       "  <tbody>\n",
       "    <tr>\n",
       "      <th>0</th>\n",
       "      <td>Business and economy</td>\n",
       "    </tr>\n",
       "    <tr>\n",
       "      <th>1</th>\n",
       "      <td>Crime and justice</td>\n",
       "    </tr>\n",
       "    <tr>\n",
       "      <th>2</th>\n",
       "      <td>Defence</td>\n",
       "    </tr>\n",
       "  </tbody>\n",
       "</table>\n",
       "</div>"
      ],
      "text/plain": [
       "              Data base\n",
       "0  Business and economy\n",
       "1     Crime and justice\n",
       "2               Defence"
      ]
     },
     "execution_count": 26,
     "metadata": {},
     "output_type": "execute_result"
    }
   ],
   "source": [
    "data_base = pd.DataFrame({'Data base':data_base})\n",
    "data_base.head(3)"
   ]
  },
  {
   "cell_type": "markdown",
   "id": "described-porcelain",
   "metadata": {},
   "source": [
    "### 7.The top 10 languages by number of native speakers"
   ]
  },
  {
   "cell_type": "code",
   "execution_count": 28,
   "id": "steady-petersburg",
   "metadata": {},
   "outputs": [],
   "source": [
    "url = 'https://en.wikipedia.org/wiki/List_of_languages_by_number_of_native_speakers'\n",
    "response = requests.get(url)\n",
    "response.status_code\n",
    "soup = BeautifulSoup(response.content, \"html.parser\")"
   ]
  },
  {
   "cell_type": "code",
   "execution_count": 57,
   "id": "prepared-television",
   "metadata": {
    "scrolled": true
   },
   "outputs": [],
   "source": [
    "country = []\n",
    "speakers = []\n",
    "\n",
    "for i in range(len(soup.select('td:nth-child(2) > a'))):\n",
    "    country.append(soup.select('td:nth-child(2) > a')[i].get_text())\n",
    "for i in range(len(soup.select('td:nth-child(3)'))):\n",
    "    speakers.append(soup.select('td:nth-child(3)')[i].get_text().replace('\\n',''))"
   ]
  }
 ],
 "metadata": {
  "kernelspec": {
   "display_name": "Python 3",
   "language": "python",
   "name": "python3"
  },
  "language_info": {
   "codemirror_mode": {
    "name": "ipython",
    "version": 3
   },
   "file_extension": ".py",
   "mimetype": "text/x-python",
   "name": "python",
   "nbconvert_exporter": "python",
   "pygments_lexer": "ipython3",
   "version": "3.9.2"
  }
 },
 "nbformat": 4,
 "nbformat_minor": 5
}
