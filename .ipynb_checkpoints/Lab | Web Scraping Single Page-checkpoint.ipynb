{
 "cells": [
  {
   "cell_type": "code",
   "execution_count": 4,
   "id": "coated-alignment",
   "metadata": {},
   "outputs": [],
   "source": [
    "# Getting al the libraries.\n",
    "import pandas as pd\n",
    "from bs4 import BeautifulSoup\n",
    "import requests\n",
    "import random"
   ]
  },
  {
   "cell_type": "markdown",
   "id": "illegal-particular",
   "metadata": {},
   "source": [
    "### 1. Get the link"
   ]
  },
  {
   "cell_type": "code",
   "execution_count": 5,
   "id": "complimentary-celebration",
   "metadata": {},
   "outputs": [],
   "source": [
    "url = 'https://www.billboard.com/charts/hot-100'"
   ]
  },
  {
   "cell_type": "code",
   "execution_count": 6,
   "id": "accomplished-footage",
   "metadata": {},
   "outputs": [
    {
     "data": {
      "text/plain": [
       "200"
      ]
     },
     "execution_count": 6,
     "metadata": {},
     "output_type": "execute_result"
    }
   ],
   "source": [
    "response = requests.get(url)\n",
    "response.status_code"
   ]
  },
  {
   "cell_type": "code",
   "execution_count": 7,
   "id": "hybrid-fitness",
   "metadata": {},
   "outputs": [],
   "source": [
    "soup = BeautifulSoup(response.content, \"html.parser\")"
   ]
  },
  {
   "cell_type": "code",
   "execution_count": 8,
   "id": "presidential-length",
   "metadata": {},
   "outputs": [],
   "source": [
    "num_itr = len(soup.select('span.chart-element__information > span.chart-element__information__song.text--truncate.color--primary'))"
   ]
  },
  {
   "cell_type": "markdown",
   "id": "scheduled-planning",
   "metadata": {},
   "source": [
    "## 2. Scraping the information and building a data frame"
   ]
  },
  {
   "cell_type": "code",
   "execution_count": 9,
   "id": "chubby-choir",
   "metadata": {},
   "outputs": [],
   "source": [
    "rank = []\n",
    "title = []\n",
    "art = []\n",
    "\n",
    "for song in range(num_itr):\n",
    "    title.append(soup.select('span.chart-element__information__song')[song].get_text())\n",
    "    art.append(soup.select('span.chart-element__information__artist')[song].get_text())\n",
    "    rank.append(soup.select('span.chart-element__rank__number')[song].get_text())"
   ]
  },
  {
   "cell_type": "code",
   "execution_count": 10,
   "id": "cooperative-recorder",
   "metadata": {},
   "outputs": [],
   "source": [
    "songs = pd.DataFrame({\"ranking\":rank,\n",
    "                      \"title\":title,\n",
    "                       \"artist\":art\n",
    "                      })"
   ]
  },
  {
   "cell_type": "markdown",
   "id": "alike-celebrity",
   "metadata": {},
   "source": [
    "## 3. Creating a fuction to check if the song is in the list."
   ]
  },
  {
   "cell_type": "code",
   "execution_count": 13,
   "id": "respective-shore",
   "metadata": {
    "scrolled": true
   },
   "outputs": [
    {
     "name": "stdout",
     "output_type": "stream",
     "text": [
      "Tell me a song gone\n",
      "It is in the list, probaly you will like Go Crazy from Chris Brown & Young Thug\n"
     ]
    }
   ],
   "source": [
    "# 1.Fuction.\n",
    "def check(x):\n",
    "        if x in songs['title'].values:  \n",
    "            recomendation = songs.sample()\n",
    "            print('It is in the list, probaly you will like',recomendation['title'].values[0], 'from',recomendation['artist'].values[0])\n",
    "        else: print('It is not a hot song right now, try with another song')\n",
    "user_choice = input(str('Tell me a song ')).title()\n",
    "check(user_choice )"
   ]
  },
  {
   "cell_type": "code",
   "execution_count": null,
   "id": "precious-despite",
   "metadata": {},
   "outputs": [],
   "source": [
    "# 2.Fuction.\n",
    "def check(x):\n",
    "        if x in list(songs['title']):    \n",
    "            print('It is in the list, probaly you will like',random.choice(songs['title']), 'as well')\n",
    "        else: print('It is not a hot song right now, try with another song')\n",
    "user_choice = input(str('Tell me a song '))\n",
    "check(user_choice )"
   ]
  }
 ],
 "metadata": {
  "kernelspec": {
   "display_name": "Python 3",
   "language": "python",
   "name": "python3"
  },
  "language_info": {
   "codemirror_mode": {
    "name": "ipython",
    "version": 3
   },
   "file_extension": ".py",
   "mimetype": "text/x-python",
   "name": "python",
   "nbconvert_exporter": "python",
   "pygments_lexer": "ipython3",
   "version": "3.9.2"
  }
 },
 "nbformat": 4,
 "nbformat_minor": 5
}
