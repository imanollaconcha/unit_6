{
 "cells": [
  {
   "cell_type": "code",
   "execution_count": null,
   "id": "exempt-chocolate",
   "metadata": {},
   "outputs": [],
   "source": []
  },
  {
   "cell_type": "markdown",
   "id": "geographic-sword",
   "metadata": {},
   "source": [
    "### Tell me a song, and I will tell you if it is hot, if not I will recomend you a similar song"
   ]
  },
  {
   "cell_type": "code",
   "execution_count": 480,
   "id": "civilian-lodge",
   "metadata": {
    "scrolled": true
   },
   "outputs": [
    {
     "name": "stdout",
     "output_type": "stream",
     "text": [
      "Tell me a song halo\n",
      "It is not a hot song, but probably you will like  El Aretito from  R. P. Patnaik\n"
     ]
    }
   ],
   "source": [
    "user_choice = input(str('Tell me a song ')).title()\n",
    "check(user_choice )"
   ]
  },
  {
   "cell_type": "code",
   "execution_count": null,
   "id": "coordinated-adult",
   "metadata": {},
   "outputs": [],
   "source": []
  },
  {
   "cell_type": "code",
   "execution_count": null,
   "id": "medieval-louisiana",
   "metadata": {},
   "outputs": [],
   "source": []
  },
  {
   "cell_type": "code",
   "execution_count": null,
   "id": "competent-lawrence",
   "metadata": {},
   "outputs": [],
   "source": []
  },
  {
   "cell_type": "code",
   "execution_count": null,
   "id": "maritime-messenger",
   "metadata": {},
   "outputs": [],
   "source": []
  },
  {
   "cell_type": "code",
   "execution_count": null,
   "id": "indonesian-spanking",
   "metadata": {},
   "outputs": [],
   "source": []
  },
  {
   "cell_type": "code",
   "execution_count": 479,
   "id": "administrative-humidity",
   "metadata": {
    "scrolled": true
   },
   "outputs": [],
   "source": [
    "# 1.Fuction.\n",
    "def check(selected_song):\n",
    "        if selected_song in songs['title'].values:  \n",
    "            recomendation = songs.sample()\n",
    "            print('It is in the list, probaly you will like',recomendation['title'].values[0], 'from',recomendation['artist'].values[0])\n",
    "        else: \n",
    "            uri = sp.search(q=selected_song)['tracks']['items'][0]['uri']\n",
    "            user_song_feat = sp.audio_features(uri)\n",
    "            user_song_feat = pd.DataFrame(user_song_feat).drop(['id','uri','track_href','analysis_url','type'],axis=1)\n",
    "            user_song_feat_sca = scale.transform(user_song_feat)\n",
    "            user_clus = kmeans.predict(user_song_feat_sca)  \n",
    "            print('It is not a hot song, but probably you will like ',\n",
    "                  (song_clusters[song_clusters['cluster'] == user_clus[0]]['song'].sample().values)[0],\n",
    "                 'from ', (song_clusters[song_clusters['cluster'] == user_clus[0]]['artists'].sample().values)[0])"
   ]
  },
  {
   "cell_type": "code",
   "execution_count": null,
   "id": "turned-spirituality",
   "metadata": {},
   "outputs": [],
   "source": [
    "#Link of my actual play list.\n",
    "'https://open.spotify.com/playlist/5XbnEtKOWl1c2GwfY1bnN8?si=03577c741a7f4de0'"
   ]
  },
  {
   "cell_type": "markdown",
   "id": "powered-ghana",
   "metadata": {},
   "source": [
    "### 1. Web scraping to have a data set of top songs."
   ]
  },
  {
   "cell_type": "code",
   "execution_count": 260,
   "id": "particular-railway",
   "metadata": {},
   "outputs": [],
   "source": [
    "# Getting al the libraries.\n",
    "import pandas as pd\n",
    "from bs4 import BeautifulSoup\n",
    "import requests\n",
    "import random\n",
    "import re"
   ]
  },
  {
   "cell_type": "code",
   "execution_count": 253,
   "id": "theoretical-influence",
   "metadata": {},
   "outputs": [
    {
     "data": {
      "text/plain": [
       "200"
      ]
     },
     "execution_count": 253,
     "metadata": {},
     "output_type": "execute_result"
    }
   ],
   "source": [
    "url = 'https://www.billboard.com/charts/hot-100'\n",
    "response = requests.get(url)\n",
    "response.status_code"
   ]
  },
  {
   "cell_type": "code",
   "execution_count": 254,
   "id": "going-climate",
   "metadata": {},
   "outputs": [],
   "source": [
    "soup = BeautifulSoup(response.content, \"html.parser\")\n",
    "num_itr = len(soup.select('span.chart-element__information > span.chart-element__information__song.text--truncate.color--primary'))"
   ]
  },
  {
   "cell_type": "code",
   "execution_count": 255,
   "id": "innovative-pavilion",
   "metadata": {},
   "outputs": [],
   "source": [
    "rank = []\n",
    "title = []\n",
    "art = []\n",
    "\n",
    "for song in range(num_itr):\n",
    "    title.append(soup.select('span.chart-element__information__song')[song].get_text())\n",
    "    art.append(soup.select('span.chart-element__information__artist')[song].get_text())\n",
    "    rank.append(soup.select('span.chart-element__rank__number')[song].get_text())"
   ]
  },
  {
   "cell_type": "code",
   "execution_count": 256,
   "id": "adjustable-universe",
   "metadata": {},
   "outputs": [],
   "source": [
    "songs = pd.DataFrame({\"ranking\":rank,\n",
    "                      \"title\":title,\n",
    "                       \"artist\":art\n",
    "                      })"
   ]
  },
  {
   "cell_type": "markdown",
   "id": "analyzed-injection",
   "metadata": {},
   "source": [
    "## 1. Create a collection of songs with their audio features"
   ]
  },
  {
   "cell_type": "code",
   "execution_count": 322,
   "id": "therapeutic-craps",
   "metadata": {},
   "outputs": [],
   "source": [
    "import spotipy\n",
    "from spotipy.oauth2 import SpotifyClientCredentials\n",
    "from sklearn import datasets\n",
    "from sklearn.preprocessing import StandardScaler"
   ]
  },
  {
   "cell_type": "code",
   "execution_count": 405,
   "id": "accessory-impression",
   "metadata": {},
   "outputs": [],
   "source": [
    "secrets_file = open(\"../../spotify_user.txt\",\"r\")\n",
    "string = secrets_file.read()\n",
    "string.split('\\n')\n",
    "secrets_dict={}\n",
    "for line in string.split('\\n'):\n",
    "  secrets_dict[line.split(':')[0]]=line.split(':')[1]"
   ]
  },
  {
   "cell_type": "code",
   "execution_count": 406,
   "id": "attended-spiritual",
   "metadata": {},
   "outputs": [],
   "source": [
    "sp = spotipy.Spotify(auth_manager=SpotifyClientCredentials(client_id=secrets_dict['client_id'],\n",
    "                                                           client_secret=secrets_dict['client_secret']))"
   ]
  },
  {
   "cell_type": "code",
   "execution_count": 407,
   "id": "essential-disclosure",
   "metadata": {},
   "outputs": [
    {
     "name": "stdout",
     "output_type": "stream",
     "text": [
      "Copy the link of a playlist'https://open.spotify.com/playlist/5XbnEtKOWl1c2GwfY1bnN8?si=03577c741a7f4de0'\n"
     ]
    }
   ],
   "source": [
    "link = input('Copy the link of a playlist ')\n",
    "code = re.findall('\\w{20,25}', str(link))\n",
    "playlist = sp.user_playlist_tracks(\"spotify\", code[0])"
   ]
  },
  {
   "cell_type": "code",
   "execution_count": null,
   "id": "beginning-avenue",
   "metadata": {},
   "outputs": [],
   "source": []
  },
  {
   "cell_type": "code",
   "execution_count": null,
   "id": "multiple-cooler",
   "metadata": {},
   "outputs": [],
   "source": []
  },
  {
   "cell_type": "markdown",
   "id": "lesbian-attack",
   "metadata": {},
   "source": [
    "### 1. Getting all songs adn artists of the playlist"
   ]
  },
  {
   "cell_type": "code",
   "execution_count": 167,
   "id": "hundred-sydney",
   "metadata": {},
   "outputs": [],
   "source": [
    "def get_name_artists_from_track(track):\n",
    "    return [(track[\"name\"],track['artists'][0]['name'])]\n",
    "\n",
    "def get_name_artist_from_playlist_item(playlist_item):\n",
    "      return get_name_artists_from_track(playlist_item['track'])\n",
    "    \n",
    "def flatten(input_list):\n",
    "      return [item for sublist in input_list for item in sublist]\n",
    "    \n",
    "def get_name_artists_from_playlist(input_playlist):\n",
    "      return flatten(list(map(get_name_artist_from_playlist_item,input_playlist[\"items\"])))"
   ]
  },
  {
   "cell_type": "code",
   "execution_count": 168,
   "id": "entertaining-billion",
   "metadata": {},
   "outputs": [],
   "source": [
    "# To put all the songs in list\n",
    "songs = get_name_artists_from_playlist(playlist) "
   ]
  },
  {
   "cell_type": "markdown",
   "id": "coordinated-coach",
   "metadata": {},
   "source": [
    "### 2. To get all the songs of each singer of the previous playlist"
   ]
  },
  {
   "cell_type": "code",
   "execution_count": 169,
   "id": "diverse-bundle",
   "metadata": {},
   "outputs": [],
   "source": [
    "singers = []\n",
    "for i in range(len(songs)):             # In order to get all the singers in a list.\n",
    "    singers.append(songs[i][1])\n",
    "\n",
    "singers = list(dict.fromkeys(singers))  #To drop duplicates singers"
   ]
  },
  {
   "cell_type": "code",
   "execution_count": 170,
   "id": "together-specific",
   "metadata": {},
   "outputs": [],
   "source": [
    "# Defining a fuction to be able to get 950 songs of each singer in the previous list.\n",
    "def get_artist_tracks(artist):  \n",
    "    results = sp.search(q=artist,limit=50)\n",
    "    tracks = results['tracks']['items']\n",
    "    i=0\n",
    "    while ((results['tracks']['next']!=None)) & (i<19):\n",
    "        i = i+1\n",
    "        results = sp.next(results['tracks'])\n",
    "        tracks = tracks + results['tracks']['items']\n",
    "    return tracks"
   ]
  },
  {
   "cell_type": "markdown",
   "id": "bound-impossible",
   "metadata": {},
   "source": [
    "### 3. To have 950 song of each singer of the first playlist"
   ]
  },
  {
   "cell_type": "code",
   "execution_count": 171,
   "id": "minus-chancellor",
   "metadata": {},
   "outputs": [],
   "source": [
    "more_songs = []   # Itereting with the previous fuction, we have names of more songs in a list\n",
    "for i in range(len(singers)):  \n",
    "    more_songs.append(get_artist_tracks(singers[i]))"
   ]
  },
  {
   "cell_type": "code",
   "execution_count": 172,
   "id": "center-cradle",
   "metadata": {},
   "outputs": [],
   "source": [
    "more_songs = flatten(more_songs)  # To have it in a singel list"
   ]
  },
  {
   "cell_type": "markdown",
   "id": "outer-voluntary",
   "metadata": {},
   "source": [
    "### 4. Fuction to get all songs, artits and uris from a singer"
   ]
  },
  {
   "cell_type": "code",
   "execution_count": 173,
   "id": "institutional-summer",
   "metadata": {},
   "outputs": [],
   "source": [
    "songs_names = []\n",
    "artists_names = []\n",
    "uris = []\n",
    "\n",
    "for track in more_songs:\n",
    "    songs_names.append(track['name'])                   # To have the songs name\n",
    "    artists_names.append(track['artists'][0]['name'])   # To have the artists name\n",
    "\n",
    "i = 0\n",
    "chunk_of_100_uris = []\n",
    "for track in more_songs:\n",
    "    if i < 100:\n",
    "        chunk_of_100_uris.append(sp.audio_features(track['uri']))\n",
    "        i = i+1\n",
    "    else:\n",
    "        uris.append(chunk_of_100_uris)\n",
    "        i = 0\n",
    "        chunk_of_100_uris = []\n",
    "        chunk_of_100_uris.append(sp.audio_features(track['uri']))\n",
    "        i = i+1       \n",
    "uris.append(chunk_of_100_uris)        \n",
    "\n"
   ]
  },
  {
   "cell_type": "code",
   "execution_count": 174,
   "id": "international-arabic",
   "metadata": {},
   "outputs": [],
   "source": [
    "uris = flatten(flatten(uris))  # To have a unique list"
   ]
  },
  {
   "cell_type": "markdown",
   "id": "naval-error",
   "metadata": {},
   "source": [
    "### 5. Creating the data frame"
   ]
  },
  {
   "cell_type": "code",
   "execution_count": null,
   "id": "blessed-baseline",
   "metadata": {},
   "outputs": [],
   "source": [
    "S = pd.DataFrame(songs_names)\n",
    "A = pd.DataFrame(artists_names)\n",
    "U = pd.DataFrame(uris)\n",
    "\n",
    "S.columns = ['song']\n",
    "A.columns = ['artists']\n",
    "\n",
    "SAU = pd.concat([S,A,U],axis=1)\n",
    "SAU = SAU.drop(['id','uri','track_href','analysis_url','type'],axis=1)\n",
    "\n",
    "SAU = SAU.drop_duplicates(['song','artists'])"
   ]
  },
  {
   "cell_type": "code",
   "execution_count": 216,
   "id": "material-amount",
   "metadata": {},
   "outputs": [],
   "source": [
    "SAU_name = SAU[['song','artists']]\n",
    "SAU_features = SAU.drop(['song','artists'],axis=1)"
   ]
  },
  {
   "cell_type": "markdown",
   "id": "contained-cover",
   "metadata": {},
   "source": [
    "### 6. Normalizing and making cluster"
   ]
  },
  {
   "cell_type": "code",
   "execution_count": 409,
   "id": "freelance-sapphire",
   "metadata": {},
   "outputs": [
    {
     "data": {
      "text/html": [
       "<div>\n",
       "<style scoped>\n",
       "    .dataframe tbody tr th:only-of-type {\n",
       "        vertical-align: middle;\n",
       "    }\n",
       "\n",
       "    .dataframe tbody tr th {\n",
       "        vertical-align: top;\n",
       "    }\n",
       "\n",
       "    .dataframe thead th {\n",
       "        text-align: right;\n",
       "    }\n",
       "</style>\n",
       "<table border=\"1\" class=\"dataframe\">\n",
       "  <thead>\n",
       "    <tr style=\"text-align: right;\">\n",
       "      <th></th>\n",
       "      <th>danceability</th>\n",
       "      <th>energy</th>\n",
       "      <th>key</th>\n",
       "      <th>loudness</th>\n",
       "      <th>mode</th>\n",
       "      <th>speechiness</th>\n",
       "      <th>acousticness</th>\n",
       "      <th>instrumentalness</th>\n",
       "      <th>liveness</th>\n",
       "      <th>valence</th>\n",
       "      <th>tempo</th>\n",
       "      <th>duration_ms</th>\n",
       "      <th>time_signature</th>\n",
       "    </tr>\n",
       "  </thead>\n",
       "  <tbody>\n",
       "    <tr>\n",
       "      <th>0</th>\n",
       "      <td>-0.254911</td>\n",
       "      <td>-0.713317</td>\n",
       "      <td>1.058711</td>\n",
       "      <td>-0.757646</td>\n",
       "      <td>-1.327895</td>\n",
       "      <td>-0.125760</td>\n",
       "      <td>-0.166079</td>\n",
       "      <td>1.396852</td>\n",
       "      <td>0.422998</td>\n",
       "      <td>-1.109072</td>\n",
       "      <td>-0.005312</td>\n",
       "      <td>0.320012</td>\n",
       "      <td>0.249842</td>\n",
       "    </tr>\n",
       "    <tr>\n",
       "      <th>1</th>\n",
       "      <td>-1.343730</td>\n",
       "      <td>0.219417</td>\n",
       "      <td>-0.894530</td>\n",
       "      <td>1.131456</td>\n",
       "      <td>0.753072</td>\n",
       "      <td>0.629527</td>\n",
       "      <td>-0.545968</td>\n",
       "      <td>-0.614795</td>\n",
       "      <td>0.827113</td>\n",
       "      <td>-1.304851</td>\n",
       "      <td>-1.153055</td>\n",
       "      <td>0.244537</td>\n",
       "      <td>0.249842</td>\n",
       "    </tr>\n",
       "    <tr>\n",
       "      <th>2</th>\n",
       "      <td>0.995436</td>\n",
       "      <td>-0.768685</td>\n",
       "      <td>-0.336461</td>\n",
       "      <td>-0.202524</td>\n",
       "      <td>-1.327895</td>\n",
       "      <td>-0.435766</td>\n",
       "      <td>0.459092</td>\n",
       "      <td>1.517610</td>\n",
       "      <td>-0.493376</td>\n",
       "      <td>-1.759946</td>\n",
       "      <td>-0.675292</td>\n",
       "      <td>-0.099532</td>\n",
       "      <td>0.249842</td>\n",
       "    </tr>\n",
       "  </tbody>\n",
       "</table>\n",
       "</div>"
      ],
      "text/plain": [
       "   danceability    energy       key  loudness      mode  speechiness  \\\n",
       "0     -0.254911 -0.713317  1.058711 -0.757646 -1.327895    -0.125760   \n",
       "1     -1.343730  0.219417 -0.894530  1.131456  0.753072     0.629527   \n",
       "2      0.995436 -0.768685 -0.336461 -0.202524 -1.327895    -0.435766   \n",
       "\n",
       "   acousticness  instrumentalness  liveness   valence     tempo  duration_ms  \\\n",
       "0     -0.166079          1.396852  0.422998 -1.109072 -0.005312     0.320012   \n",
       "1     -0.545968         -0.614795  0.827113 -1.304851 -1.153055     0.244537   \n",
       "2      0.459092          1.517610 -0.493376 -1.759946 -0.675292    -0.099532   \n",
       "\n",
       "   time_signature  \n",
       "0        0.249842  \n",
       "1        0.249842  \n",
       "2        0.249842  "
      ]
     },
     "execution_count": 409,
     "metadata": {},
     "output_type": "execute_result"
    }
   ],
   "source": [
    "scale = StandardScaler()\n",
    "\n",
    "X_prep = scale.fit_transform(SAU_features)\n",
    "\n",
    "pd.DataFrame(X_prep,columns=SAU_features.columns).head(3)"
   ]
  },
  {
   "cell_type": "code",
   "execution_count": 234,
   "id": "contained-renaissance",
   "metadata": {},
   "outputs": [
    {
     "data": {
      "text/plain": [
       "KMeans(n_clusters=12, random_state=1234)"
      ]
     },
     "execution_count": 234,
     "metadata": {},
     "output_type": "execute_result"
    }
   ],
   "source": [
    "from sklearn.cluster import KMeans\n",
    "\n",
    "kmeans = KMeans(n_clusters=12, random_state=1234)\n",
    "kmeans.fit(X_prep)"
   ]
  },
  {
   "cell_type": "code",
   "execution_count": 235,
   "id": "distinct-reader",
   "metadata": {},
   "outputs": [
    {
     "data": {
      "text/plain": [
       "0     256\n",
       "1     710\n",
       "2     484\n",
       "3      39\n",
       "4     198\n",
       "5     574\n",
       "6     351\n",
       "7     322\n",
       "8       3\n",
       "9     284\n",
       "10    212\n",
       "11     46\n",
       "dtype: int64"
      ]
     },
     "execution_count": 235,
     "metadata": {},
     "output_type": "execute_result"
    }
   ],
   "source": [
    "# Predicting / assigning the clusters:\n",
    "clusters = kmeans.predict(X_prep)\n",
    "\n",
    "# Check the size of the clusters\n",
    "pd.Series(clusters).value_counts().sort_index()"
   ]
  },
  {
   "cell_type": "markdown",
   "id": "signed-democracy",
   "metadata": {},
   "source": [
    "### 7. Final data frame with all clusters done"
   ]
  },
  {
   "cell_type": "code",
   "execution_count": 244,
   "id": "fourth-boost",
   "metadata": {},
   "outputs": [],
   "source": [
    "clusters = pd.DataFrame(clusters, columns = ['cluster'])"
   ]
  },
  {
   "cell_type": "code",
   "execution_count": 249,
   "id": "female-black",
   "metadata": {},
   "outputs": [],
   "source": [
    "SAU_features_stand = pd.DataFrame(X_prep,columns=SAU_features.columns)"
   ]
  },
  {
   "cell_type": "code",
   "execution_count": 250,
   "id": "comparative-latino",
   "metadata": {},
   "outputs": [],
   "source": [
    "song_clusters = pd.concat([clusters,SAU_name,SAU_features_stand],axis=1)"
   ]
  },
  {
   "cell_type": "code",
   "execution_count": null,
   "id": "respiratory-permit",
   "metadata": {},
   "outputs": [],
   "source": []
  },
  {
   "cell_type": "code",
   "execution_count": null,
   "id": "capable-database",
   "metadata": {},
   "outputs": [],
   "source": []
  },
  {
   "cell_type": "code",
   "execution_count": null,
   "id": "senior-installation",
   "metadata": {},
   "outputs": [],
   "source": []
  },
  {
   "cell_type": "code",
   "execution_count": 233,
   "id": "controlling-sister",
   "metadata": {},
   "outputs": [
    {
     "data": {
      "text/plain": [
       "Text(0.5, 1.0, 'Elbow Method showing the optimal k')"
      ]
     },
     "execution_count": 233,
     "metadata": {},
     "output_type": "execute_result"
    },
    {
     "data": {
      "image/png": "[encoded data removed]",
      "text/plain": [
       "<Figure size 1152x576 with 1 Axes>"
      ]
     },
     "metadata": {
      "needs_background": "light"
     },
     "output_type": "display_data"
    }
   ],
   "source": [
    "from sklearn.metrics import silhouette_score\n",
    "K = range(2, 20)\n",
    "silhouette = []\n",
    "\n",
    "for k in K:\n",
    "    kmeans = KMeans(n_clusters=k,\n",
    "                    random_state=1234)\n",
    "    kmeans.fit(X_prep)\n",
    "    silhouette.append(silhouette_score(X_prep, kmeans.predict(X_prep)))\n",
    "\n",
    "\n",
    "plt.figure(figsize=(16,8))\n",
    "plt.plot(K, silhouette, 'bx-')\n",
    "plt.xlabel('k')\n",
    "plt.ylabel('silhouette score')\n",
    "plt.xticks(np.arange(min(K), max(K)+1, 1.0))\n",
    "plt.title('Elbow Method showing the optimal k')"
   ]
  },
  {
   "cell_type": "code",
   "execution_count": null,
   "id": "bibliographic-thong",
   "metadata": {},
   "outputs": [],
   "source": []
  },
  {
   "cell_type": "code",
   "execution_count": null,
   "id": "plain-scholar",
   "metadata": {},
   "outputs": [],
   "source": []
  },
  {
   "cell_type": "code",
   "execution_count": null,
   "id": "minimal-sucking",
   "metadata": {},
   "outputs": [],
   "source": []
  },
  {
   "cell_type": "markdown",
   "id": "available-trick",
   "metadata": {},
   "source": [
    "### Made with David, to keep it."
   ]
  },
  {
   "cell_type": "code",
   "execution_count": null,
   "id": "british-agriculture",
   "metadata": {},
   "outputs": [],
   "source": [
    "# Fuction to get all uris from a singer\n",
    "songs_names = []\n",
    "artists_names = []\n",
    "uris = []\n",
    "\n",
    "for track in B:\n",
    "    songs_names.append(track['name'])\n",
    "    artists_names.append(track['artists'])\n",
    "\n",
    "i = 0\n",
    "chunk_of_100_uris = []\n",
    "for track in B:\n",
    "    if i < 100:\n",
    "        chunk_of_100_uris.append(track['uri'])\n",
    "        i = i+1\n",
    "    else:\n",
    "        uris.append(chunk_of_100_uris)\n",
    "        i = 0\n",
    "        chunk_of_100_uris = []\n",
    "        chunk_of_100_uris.append(track['uri'])\n",
    "        i = i+1       \n",
    "uris.append(chunk_of_100_uris) \n",
    "\n",
    "\n",
    "# The same fuction of before but more advanced\n",
    "i = 0\n",
    "chunk_of_100_uris = []\n",
    "for track in B:\n",
    "    if i == 100:\n",
    "        uris.append(chunk_of_100_uris)\n",
    "        i = 0\n",
    "        chunck_of_100_uris = []\n",
    "    chunck_of_100_uris.append(track['uri'])\n",
    "    i = i+1\n",
    "uris.append(chunk_of_100_uris)  "
   ]
  }
 ],
 "metadata": {
  "kernelspec": {
   "display_name": "Python 3",
   "language": "python",
   "name": "python3"
  },
  "language_info": {
   "codemirror_mode": {
    "name": "ipython",
    "version": 3
   },
   "file_extension": ".py",
   "mimetype": "text/x-python",
   "name": "python",
   "nbconvert_exporter": "python",
   "pygments_lexer": "ipython3",
   "version": "3.9.2"
  }
 },
 "nbformat": 4,
 "nbformat_minor": 5
}
