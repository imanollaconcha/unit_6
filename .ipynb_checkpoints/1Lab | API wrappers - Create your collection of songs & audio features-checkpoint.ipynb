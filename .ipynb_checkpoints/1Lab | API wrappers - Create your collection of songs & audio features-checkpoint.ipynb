{
 "cells": [
  {
   "cell_type": "markdown",
   "id": "analyzed-injection",
   "metadata": {},
   "source": [
    "## 1. Create a collection of songs with their audio features"
   ]
  },
  {
   "cell_type": "code",
   "execution_count": 1,
   "id": "therapeutic-craps",
   "metadata": {},
   "outputs": [],
   "source": [
    "import pandas as pd\n",
    "import spotipy\n",
    "from spotipy.oauth2 import SpotifyClientCredentials"
   ]
  },
  {
   "cell_type": "code",
   "execution_count": 2,
   "id": "accessory-impression",
   "metadata": {},
   "outputs": [],
   "source": [
    "secrets_file = open(\"../../spotify_user.txt\",\"r\")\n",
    "string = secrets_file.read()\n",
    "string.split('\\n')\n",
    "secrets_dict={}\n",
    "for line in string.split('\\n'):\n",
    "  secrets_dict[line.split(':')[0]]=line.split(':')[1]"
   ]
  },
  {
   "cell_type": "code",
   "execution_count": 3,
   "id": "attended-spiritual",
   "metadata": {},
   "outputs": [],
   "source": [
    "sp = spotipy.Spotify(auth_manager=SpotifyClientCredentials(client_id=secrets_dict['client_id'],\n",
    "                                                           client_secret=secrets_dict['client_secret']))"
   ]
  },
  {
   "cell_type": "code",
   "execution_count": null,
   "id": "generic-speaking",
   "metadata": {},
   "outputs": [],
   "source": []
  },
  {
   "cell_type": "code",
   "execution_count": 4,
   "id": "elder-setup",
   "metadata": {},
   "outputs": [],
   "source": [
    "playlist = sp.user_playlist_tracks(\"spotify\", \"5XbnEtKOWl1c2GwfY1bnN8\")"
   ]
  },
  {
   "cell_type": "code",
   "execution_count": 5,
   "id": "hundred-sydney",
   "metadata": {},
   "outputs": [],
   "source": [
    "def get_name_artists_from_track(track):\n",
    "    return [(track[\"name\"],track['artists'][0]['name'])]\n",
    "\n",
    "def get_name_artist_from_playlist_item(playlist_item):\n",
    "      return get_name_artists_from_track(playlist_item['track'])\n",
    "    \n",
    "def flatten(input_list):\n",
    "      return [item for sublist in input_list for item in sublist]\n",
    "    \n",
    "def get_name_artists_from_playlist(input_playlist):\n",
    "      return flatten(list(map(get_name_artist_from_playlist_item,input_playlist[\"items\"])))"
   ]
  },
  {
   "cell_type": "code",
   "execution_count": 6,
   "id": "entertaining-billion",
   "metadata": {},
   "outputs": [],
   "source": [
    "# To put all the songs in list\n",
    "songs = get_name_artists_from_playlist(playlist) "
   ]
  },
  {
   "cell_type": "code",
   "execution_count": null,
   "id": "contrary-nitrogen",
   "metadata": {},
   "outputs": [],
   "source": []
  },
  {
   "cell_type": "markdown",
   "id": "korean-wonder",
   "metadata": {},
   "source": [
    "### To get all the features of a playlist"
   ]
  },
  {
   "cell_type": "code",
   "execution_count": 7,
   "id": "working-guyana",
   "metadata": {},
   "outputs": [],
   "source": [
    "def get_features_from_track(track):   #To get audiofeatures of a playlist\n",
    "    return sp.audio_features(track[\"uri\"])\n",
    "\n",
    "def get_features_from_playlist_item(playlist_item):\n",
    "      return get_features_from_track(playlist_item['track'])\n",
    "    \n",
    "    \n",
    "def get_features_from_playlist(input_playlist):\n",
    "      return flatten(list(map(get_features_from_playlist_item,input_playlist[\"items\"])))"
   ]
  },
  {
   "cell_type": "code",
   "execution_count": 8,
   "id": "automotive-milton",
   "metadata": {},
   "outputs": [],
   "source": [
    "features = get_features_from_playlist(playlist)"
   ]
  },
  {
   "cell_type": "code",
   "execution_count": 9,
   "id": "increased-future",
   "metadata": {},
   "outputs": [],
   "source": [
    "songs_feat = (pd.concat([pd.DataFrame(songs),pd.DataFrame(features)], axis=1)).drop(['id','uri','track_href','analysis_url','type'],axis=1)"
   ]
  },
  {
   "cell_type": "markdown",
   "id": "coordinated-coach",
   "metadata": {},
   "source": [
    "### To get all the songs of each singer of the previous playlist"
   ]
  },
  {
   "cell_type": "code",
   "execution_count": 13,
   "id": "diverse-bundle",
   "metadata": {},
   "outputs": [],
   "source": [
    "singers = []\n",
    "for i in range(len(songs)): # In order to get all the singers in a list.\n",
    "    singers.append(songs[i][1])\n",
    "\n",
    "singers = list(dict.fromkeys(singers)) #To drop duplicates singers"
   ]
  },
  {
   "cell_type": "code",
   "execution_count": 14,
   "id": "together-specific",
   "metadata": {},
   "outputs": [],
   "source": [
    "def get_artist_tracks(artist):   # Defining a fuction to be able to get 950 songs of each singer in the previous list.\n",
    "    results = sp.search(q=artist,limit=50)\n",
    "    tracks = results['tracks']['items']\n",
    "    i=0\n",
    "    while ((results['tracks']['next']!=None)) & (i<19):\n",
    "        i = i+1\n",
    "        results = sp.next(results['tracks'])\n",
    "        tracks = tracks + results['tracks']['items']\n",
    "    return tracks"
   ]
  },
  {
   "cell_type": "code",
   "execution_count": 16,
   "id": "minus-chancellor",
   "metadata": {},
   "outputs": [],
   "source": [
    "more_songs = []\n",
    "for i in range(len(singers)):  # Itereting with the previous fuction\n",
    "    more_songs.append(get_artist_tracks(singers[i]))\n",
    "more_songs = more_songs[0]"
   ]
  },
  {
   "cell_type": "code",
   "execution_count": null,
   "id": "competitive-smell",
   "metadata": {},
   "outputs": [],
   "source": []
  },
  {
   "cell_type": "code",
   "execution_count": null,
   "id": "junior-methodology",
   "metadata": {},
   "outputs": [],
   "source": [
    "len(get_artist_tracks('lady gaga')[0])"
   ]
  },
  {
   "cell_type": "code",
   "execution_count": null,
   "id": "prescription-paintball",
   "metadata": {},
   "outputs": [],
   "source": []
  },
  {
   "cell_type": "code",
   "execution_count": null,
   "id": "bacterial-gender",
   "metadata": {},
   "outputs": [],
   "source": [
    "more_songs = []\n",
    "for i in range(len(singers)):  #to get all the songs of each singer of the previous list.\n",
    "    more_songs.append(sp.search(q= singers[i])['tracks'])\n",
    "more_songs = more_songs[0]"
   ]
  },
  {
   "cell_type": "code",
   "execution_count": null,
   "id": "biological-spending",
   "metadata": {},
   "outputs": [],
   "source": [
    "# in order to extaxt all the song name and artist name \n",
    "# of  all the songs of each singer of the previous list.\n",
    "def get_name_artists_from_track(track):\n",
    "    return [(track[\"name\"],track['artists'][0]['name'])]\n",
    "\n",
    "def get_name_artist_from_playlist_item(playlist_item):\n",
    "      return get_name_artists_from_track(playlist_item)\n",
    "    \n",
    "def get_name_artists_from_playlist(input_playlist):\n",
    "      return flatten(list(map(get_name_artist_from_playlist_item,input_playlist[\"items\"])))"
   ]
  },
  {
   "cell_type": "code",
   "execution_count": null,
   "id": "needed-database",
   "metadata": {},
   "outputs": [],
   "source": [
    "# To have all songs of singers of previous list in another list\n",
    "songs2 = get_name_artists_from_playlist(more_songs) "
   ]
  },
  {
   "cell_type": "code",
   "execution_count": null,
   "id": "gentle-violation",
   "metadata": {},
   "outputs": [],
   "source": []
  },
  {
   "cell_type": "code",
   "execution_count": 37,
   "id": "complete-tooth",
   "metadata": {},
   "outputs": [
    {
     "ename": "IndentationError",
     "evalue": "unindent does not match any outer indentation level (<tokenize>, line 22)",
     "output_type": "error",
     "traceback": [
      "\u001b[0;36m  File \u001b[0;32m\"<tokenize>\"\u001b[0;36m, line \u001b[0;32m22\u001b[0m\n\u001b[0;31m    final_audio_features = flatten(p_a_f)\u001b[0m\n\u001b[0m    ^\u001b[0m\n\u001b[0;31mIndentationError\u001b[0m\u001b[0;31m:\u001b[0m unindent does not match any outer indentation level\n"
     ]
    }
   ],
   "source": [
    "from time import sleep\n",
    "from random import randint\n",
    "\n",
    "playlist = sp.user_playlist_tracks(\"spotify\", \"5XbnEtKOWl1c2GwfY1bnN8\")\n",
    "playlist_audio_features = []\n",
    "\n",
    "while playlist['next']!=None:\n",
    "    chunk_of_playlist = []\n",
    "    playlist = sp.next(playlist)\n",
    "\n",
    "    for i in range(len(playlist[\"items\"])):\n",
    "            song_uri = playlist[\"items\"][i][\"track\"][\"uri\"]\n",
    "            chunk_of_playlist.append(song_uri)\n",
    "    playlist_audio_features.append(chunk_of_playlist)\n",
    "    sleep(2)\n",
    "p_a_f = []\n",
    "for sublist in playlist_audio_features:\n",
    "    p_a_f.append(sp.audio_features(sublist))\n",
    "    sleep(2)\n",
    "def flatten(input_list):\n",
    "    return[item for sublist in input_list for item in sublist]\n",
    " final_audio_features = flatten(p_a_f)\n",
    "playlist_audio_features_df = pd.DataFrame(final_audio_features)"
   ]
  },
  {
   "cell_type": "code",
   "execution_count": null,
   "id": "sitting-watch",
   "metadata": {},
   "outputs": [],
   "source": [
    "from time import sleep\n",
    "from random import randint\n",
    "playlist = sp.user_playlist_tracks(\"spotify\", \"63l0Uys82BM2qe85CBBbJi\")\n",
    "playlist_audio_features = []\n",
    "playlist_tracks = []\n",
    "playlist_artist =[]\n",
    "while playlist['next']!=None:\n",
    "    chunk_of_playlist = []\n",
    "    playlist = sp.next(playlist)\n",
    "    for i in range(len(playlist[\"items\"])):\n",
    "            tracks = playlist[\"items\"][i][\"track\"][\"name\"]\n",
    "            playlist_tracks.append(tracks)\n",
    "    for i in range(len(playlist[\"items\"])):\n",
    "            artist = playlist[\"items\"][i][\"track\"]['album'][\"artists\"][0][\"name\"]\n",
    "            playlist_artist.append(artist)\n",
    "    for i in range(len(playlist[\"items\"])):\n",
    "            song_uri = playlist[\"items\"][i][\"track\"][\"uri\"]\n",
    "            chunk_of_playlist.append(song_uri)\n",
    "    playlist_audio_features.append(chunk_of_playlist)\n",
    "    sleep(2)\n",
    "p_a_f = []\n",
    "for sublist in playlist_audio_features:\n",
    "    p_a_f.append(sp.audio_features(sublist))\n",
    "    sleep(2)\n",
    "def flatten(input_list):\n",
    "    return[item for sublist in input_list for item in sublist]\n",
    " final_audio_features = flatten(p_a_f)\n",
    "playlist_audio_features_df = pd.DataFrame(final_audio_features)\n",
    "playlist_tracks_df = pd.DataFrame(playlist_tracks)\n",
    "playlist_artist_df = pd.DataFrame(playlist_artist)"
   ]
  },
  {
   "cell_type": "markdown",
   "id": "fatal-straight",
   "metadata": {},
   "source": [
    "## It does not work"
   ]
  },
  {
   "cell_type": "code",
   "execution_count": null,
   "id": "restricted-methodology",
   "metadata": {},
   "outputs": [],
   "source": [
    "beyonce = sp.search(q='beyonce',limit=50)"
   ]
  },
  {
   "cell_type": "code",
   "execution_count": null,
   "id": "functioning-client",
   "metadata": {},
   "outputs": [],
   "source": []
  },
  {
   "cell_type": "code",
   "execution_count": null,
   "id": "postal-hormone",
   "metadata": {},
   "outputs": [],
   "source": [
    "sp.next(beyonce['tracks']).keys()"
   ]
  },
  {
   "cell_type": "code",
   "execution_count": null,
   "id": "lucky-dream",
   "metadata": {},
   "outputs": [],
   "source": []
  }
 ],
 "metadata": {
  "kernelspec": {
   "display_name": "Python 3",
   "language": "python",
   "name": "python3"
  },
  "language_info": {
   "codemirror_mode": {
    "name": "ipython",
    "version": 3
   },
   "file_extension": ".py",
   "mimetype": "text/x-python",
   "name": "python",
   "nbconvert_exporter": "python",
   "pygments_lexer": "ipython3",
   "version": "3.9.2"
  }
 },
 "nbformat": 4,
 "nbformat_minor": 5
}
