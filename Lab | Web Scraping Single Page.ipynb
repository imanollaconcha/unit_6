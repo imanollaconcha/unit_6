{
 "cells": [
  {
   "cell_type": "code",
   "execution_count": 1,
   "id": "coated-alignment",
   "metadata": {},
   "outputs": [],
   "source": [
    "# Getting al the libraries.\n",
    "import pandas as pd\n",
    "from bs4 import BeautifulSoup\n",
    "import requests\n",
    "import random"
   ]
  },
  {
   "cell_type": "markdown",
   "id": "illegal-particular",
   "metadata": {},
   "source": [
    "### 1. Get the link"
   ]
  },
  {
   "cell_type": "code",
   "execution_count": 2,
   "id": "complimentary-celebration",
   "metadata": {},
   "outputs": [],
   "source": [
    "url = 'https://www.billboard.com/charts/hot-100'"
   ]
  },
  {
   "cell_type": "code",
   "execution_count": 3,
   "id": "accomplished-footage",
   "metadata": {},
   "outputs": [
    {
     "data": {
      "text/plain": [
       "200"
      ]
     },
     "execution_count": 3,
     "metadata": {},
     "output_type": "execute_result"
    }
   ],
   "source": [
    "response = requests.get(url)\n",
    "response.status_code"
   ]
  },
  {
   "cell_type": "code",
   "execution_count": 4,
   "id": "hybrid-fitness",
   "metadata": {},
   "outputs": [],
   "source": [
    "soup = BeautifulSoup(response.content, \"html.parser\")"
   ]
  },
  {
   "cell_type": "code",
   "execution_count": 5,
   "id": "presidential-length",
   "metadata": {},
   "outputs": [],
   "source": [
    "num_itr = len(soup.select('span.chart-element__information > span.chart-element__information__song.text--truncate.color--primary'))"
   ]
  },
  {
   "cell_type": "markdown",
   "id": "scheduled-planning",
   "metadata": {},
   "source": [
    "## 2. Scraping the information and building a data frame"
   ]
  },
  {
   "cell_type": "code",
   "execution_count": 6,
   "id": "chubby-choir",
   "metadata": {},
   "outputs": [],
   "source": [
    "rank = []\n",
    "title = []\n",
    "art = []\n",
    "\n",
    "for song in range(num_itr):\n",
    "    title.append(soup.select('span.chart-element__information__song')[song].get_text())\n",
    "    art.append(soup.select('span.chart-element__information__artist')[song].get_text())\n",
    "    rank.append(soup.select('span.chart-element__rank__number')[song].get_text())"
   ]
  },
  {
   "cell_type": "code",
   "execution_count": 7,
   "id": "cooperative-recorder",
   "metadata": {},
   "outputs": [],
   "source": [
    "songs = pd.DataFrame({\"ranking\":rank,\n",
    "                      \"title\":title,\n",
    "                       \"artist\":art\n",
    "                      })"
   ]
  },
  {
   "cell_type": "code",
   "execution_count": 10,
   "id": "contemporary-theorem",
   "metadata": {},
   "outputs": [
    {
     "data": {
      "text/html": [
       "<div>\n",
       "<style scoped>\n",
       "    .dataframe tbody tr th:only-of-type {\n",
       "        vertical-align: middle;\n",
       "    }\n",
       "\n",
       "    .dataframe tbody tr th {\n",
       "        vertical-align: top;\n",
       "    }\n",
       "\n",
       "    .dataframe thead th {\n",
       "        text-align: right;\n",
       "    }\n",
       "</style>\n",
       "<table border=\"1\" class=\"dataframe\">\n",
       "  <thead>\n",
       "    <tr style=\"text-align: right;\">\n",
       "      <th></th>\n",
       "      <th>ranking</th>\n",
       "      <th>title</th>\n",
       "      <th>artist</th>\n",
       "    </tr>\n",
       "  </thead>\n",
       "  <tbody>\n",
       "    <tr>\n",
       "      <th>0</th>\n",
       "      <td>1</td>\n",
       "      <td>Rapstar</td>\n",
       "      <td>Polo G</td>\n",
       "    </tr>\n",
       "    <tr>\n",
       "      <th>1</th>\n",
       "      <td>2</td>\n",
       "      <td>Leave The Door Open</td>\n",
       "      <td>Silk Sonic (Bruno Mars &amp; Anderson .Paak)</td>\n",
       "    </tr>\n",
       "    <tr>\n",
       "      <th>2</th>\n",
       "      <td>3</td>\n",
       "      <td>Peaches</td>\n",
       "      <td>Justin Bieber Featuring Daniel Caesar &amp; Giveon</td>\n",
       "    </tr>\n",
       "    <tr>\n",
       "      <th>3</th>\n",
       "      <td>4</td>\n",
       "      <td>Montero (Call Me By Your Name)</td>\n",
       "      <td>Lil Nas X</td>\n",
       "    </tr>\n",
       "    <tr>\n",
       "      <th>4</th>\n",
       "      <td>5</td>\n",
       "      <td>Levitating</td>\n",
       "      <td>Dua Lipa Featuring DaBaby</td>\n",
       "    </tr>\n",
       "    <tr>\n",
       "      <th>...</th>\n",
       "      <td>...</td>\n",
       "      <td>...</td>\n",
       "      <td>...</td>\n",
       "    </tr>\n",
       "    <tr>\n",
       "      <th>95</th>\n",
       "      <td>96</td>\n",
       "      <td>Go!</td>\n",
       "      <td>Moneybagg Yo Featuring BIG30</td>\n",
       "    </tr>\n",
       "    <tr>\n",
       "      <th>96</th>\n",
       "      <td>97</td>\n",
       "      <td>Drankin N Smokin</td>\n",
       "      <td>Future &amp; Lil Uzi Vert</td>\n",
       "    </tr>\n",
       "    <tr>\n",
       "      <th>97</th>\n",
       "      <td>98</td>\n",
       "      <td>Monsters</td>\n",
       "      <td>All Time Low Featuring Demi Lovato &amp; blackbear</td>\n",
       "    </tr>\n",
       "    <tr>\n",
       "      <th>98</th>\n",
       "      <td>99</td>\n",
       "      <td>Slatty</td>\n",
       "      <td>Young Thug &amp; Gunna Featuring Yak Gotti &amp; Lil Duke</td>\n",
       "    </tr>\n",
       "    <tr>\n",
       "      <th>99</th>\n",
       "      <td>100</td>\n",
       "      <td>4 Da Gang</td>\n",
       "      <td>42 Dugg &amp; Roddy Ricch</td>\n",
       "    </tr>\n",
       "  </tbody>\n",
       "</table>\n",
       "<p>100 rows × 3 columns</p>\n",
       "</div>"
      ],
      "text/plain": [
       "   ranking                           title  \\\n",
       "0        1                         Rapstar   \n",
       "1        2             Leave The Door Open   \n",
       "2        3                         Peaches   \n",
       "3        4  Montero (Call Me By Your Name)   \n",
       "4        5                      Levitating   \n",
       "..     ...                             ...   \n",
       "95      96                             Go!   \n",
       "96      97                Drankin N Smokin   \n",
       "97      98                        Monsters   \n",
       "98      99                          Slatty   \n",
       "99     100                       4 Da Gang   \n",
       "\n",
       "                                               artist  \n",
       "0                                              Polo G  \n",
       "1            Silk Sonic (Bruno Mars & Anderson .Paak)  \n",
       "2      Justin Bieber Featuring Daniel Caesar & Giveon  \n",
       "3                                           Lil Nas X  \n",
       "4                           Dua Lipa Featuring DaBaby  \n",
       "..                                                ...  \n",
       "95                       Moneybagg Yo Featuring BIG30  \n",
       "96                              Future & Lil Uzi Vert  \n",
       "97    All Time Low Featuring Demi Lovato & blackbear   \n",
       "98  Young Thug & Gunna Featuring Yak Gotti & Lil Duke  \n",
       "99                              42 Dugg & Roddy Ricch  \n",
       "\n",
       "[100 rows x 3 columns]"
      ]
     },
     "execution_count": 10,
     "metadata": {},
     "output_type": "execute_result"
    }
   ],
   "source": [
    "songs"
   ]
  },
  {
   "cell_type": "markdown",
   "id": "alike-celebrity",
   "metadata": {},
   "source": [
    "## 3. Creating a fuction to check if the song is in the list."
   ]
  },
  {
   "cell_type": "code",
   "execution_count": 8,
   "id": "respective-shore",
   "metadata": {
    "scrolled": true
   },
   "outputs": [
    {
     "name": "stdout",
     "output_type": "stream",
     "text": [
      "Tell me a song hello\n",
      "It is not a hot song right now, try with another song\n"
     ]
    }
   ],
   "source": [
    "# 1.Fuction.\n",
    "def check(x):\n",
    "        if x in songs['title'].values:  \n",
    "            recomendation = songs.sample()\n",
    "            print('It is in the list, probaly you will like',recomendation['title'].values[0], 'from',recomendation['artist'].values[0])\n",
    "        else: print('It is not a hot song right now, try with another song')\n",
    "user_choice = input(str('Tell me a song ')).title()\n",
    "check(user_choice )"
   ]
  },
  {
   "cell_type": "code",
   "execution_count": 9,
   "id": "precious-despite",
   "metadata": {},
   "outputs": [
    {
     "name": "stdout",
     "output_type": "stream",
     "text": [
      "Tell me a song hello\n",
      "It is not a hot song right now, try with another song\n"
     ]
    }
   ],
   "source": [
    "# 2.Fuction.\n",
    "def check(x):\n",
    "        if x in list(songs['title']):    \n",
    "            print('It is in the list, probaly you will like',random.choice(songs['title']), 'as well')\n",
    "        else: print('It is not a hot song right now, try with another song')\n",
    "user_choice = input(str('Tell me a song '))\n",
    "check(user_choice )"
   ]
  }
 ],
 "metadata": {
  "kernelspec": {
   "display_name": "Python 3",
   "language": "python",
   "name": "python3"
  },
  "language_info": {
   "codemirror_mode": {
    "name": "ipython",
    "version": 3
   },
   "file_extension": ".py",
   "mimetype": "text/x-python",
   "name": "python",
   "nbconvert_exporter": "python",
   "pygments_lexer": "ipython3",
   "version": "3.9.2"
  }
 },
 "nbformat": 4,
 "nbformat_minor": 5
}
