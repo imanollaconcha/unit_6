{
 "cells": [
  {
   "cell_type": "code",
   "execution_count": 1,
   "id": "coated-alignment",
   "metadata": {},
   "outputs": [],
   "source": [
    "import pandas as pd\n",
    "from bs4 import BeautifulSoup\n",
    "import requests"
   ]
  },
  {
   "cell_type": "markdown",
   "id": "illegal-particular",
   "metadata": {},
   "source": [
    "### 1. Get the link"
   ]
  },
  {
   "cell_type": "code",
   "execution_count": 2,
   "id": "complimentary-celebration",
   "metadata": {},
   "outputs": [],
   "source": [
    "url = 'https://www.billboard.com/charts/hot-100'"
   ]
  },
  {
   "cell_type": "code",
   "execution_count": 3,
   "id": "accomplished-footage",
   "metadata": {},
   "outputs": [
    {
     "data": {
      "text/plain": [
       "200"
      ]
     },
     "execution_count": 3,
     "metadata": {},
     "output_type": "execute_result"
    }
   ],
   "source": [
    "response = requests.get(url)\n",
    "response.status_code"
   ]
  },
  {
   "cell_type": "code",
   "execution_count": 4,
   "id": "hybrid-fitness",
   "metadata": {},
   "outputs": [],
   "source": [
    "soup = BeautifulSoup(response.content, \"html.parser\")"
   ]
  },
  {
   "cell_type": "code",
   "execution_count": 5,
   "id": "presidential-length",
   "metadata": {},
   "outputs": [],
   "source": [
    "num_itr = len(soup.select('span.chart-element__information > span.chart-element__information__song.text--truncate.color--primary'))"
   ]
  },
  {
   "cell_type": "markdown",
   "id": "scheduled-planning",
   "metadata": {},
   "source": [
    "## 2. Scraping the information"
   ]
  },
  {
   "cell_type": "code",
   "execution_count": 6,
   "id": "chubby-choir",
   "metadata": {},
   "outputs": [],
   "source": [
    "rank = []\n",
    "title = []\n",
    "art = []\n",
    "\n",
    "for song in range(num_itr):\n",
    "    title.append(soup.select('span.chart-element__information__song.text--truncate.color--primary')[song].get_text())\n",
    "    art.append(soup.select('span.chart-element__information__artist.text--truncate.color--secondary')[song].get_text())\n",
    "    rank.append(soup.select('span.chart-element__rank__number')[song].get_text())"
   ]
  },
  {
   "cell_type": "code",
   "execution_count": 7,
   "id": "cooperative-recorder",
   "metadata": {},
   "outputs": [],
   "source": [
    "songs = pd.DataFrame({\"ranking\":rank,\n",
    "                      \"title\":title,\n",
    "                       \"artist\":art\n",
    "                      })"
   ]
  },
  {
   "cell_type": "code",
   "execution_count": 8,
   "id": "cardiovascular-segment",
   "metadata": {
    "scrolled": true
   },
   "outputs": [
    {
     "data": {
      "text/html": [
       "<div>\n",
       "<style scoped>\n",
       "    .dataframe tbody tr th:only-of-type {\n",
       "        vertical-align: middle;\n",
       "    }\n",
       "\n",
       "    .dataframe tbody tr th {\n",
       "        vertical-align: top;\n",
       "    }\n",
       "\n",
       "    .dataframe thead th {\n",
       "        text-align: right;\n",
       "    }\n",
       "</style>\n",
       "<table border=\"1\" class=\"dataframe\">\n",
       "  <thead>\n",
       "    <tr style=\"text-align: right;\">\n",
       "      <th></th>\n",
       "      <th>ranking</th>\n",
       "      <th>title</th>\n",
       "      <th>artist</th>\n",
       "    </tr>\n",
       "  </thead>\n",
       "  <tbody>\n",
       "    <tr>\n",
       "      <th>0</th>\n",
       "      <td>1</td>\n",
       "      <td>Rapstar</td>\n",
       "      <td>Polo G</td>\n",
       "    </tr>\n",
       "    <tr>\n",
       "      <th>1</th>\n",
       "      <td>2</td>\n",
       "      <td>Montero (Call Me By Your Name)</td>\n",
       "      <td>Lil Nas X</td>\n",
       "    </tr>\n",
       "    <tr>\n",
       "      <th>2</th>\n",
       "      <td>3</td>\n",
       "      <td>Leave The Door Open</td>\n",
       "      <td>Silk Sonic (Bruno Mars &amp; Anderson .Paak)</td>\n",
       "    </tr>\n",
       "    <tr>\n",
       "      <th>3</th>\n",
       "      <td>4</td>\n",
       "      <td>Peaches</td>\n",
       "      <td>Justin Bieber Featuring Daniel Caesar &amp; Giveon</td>\n",
       "    </tr>\n",
       "    <tr>\n",
       "      <th>4</th>\n",
       "      <td>5</td>\n",
       "      <td>Save Your Tears</td>\n",
       "      <td>The Weeknd</td>\n",
       "    </tr>\n",
       "    <tr>\n",
       "      <th>...</th>\n",
       "      <td>...</td>\n",
       "      <td>...</td>\n",
       "      <td>...</td>\n",
       "    </tr>\n",
       "    <tr>\n",
       "      <th>95</th>\n",
       "      <td>96</td>\n",
       "      <td>One Too Many</td>\n",
       "      <td>Keith Urban Duet With P!nk</td>\n",
       "    </tr>\n",
       "    <tr>\n",
       "      <th>96</th>\n",
       "      <td>97</td>\n",
       "      <td>Wasted On You</td>\n",
       "      <td>Morgan Wallen</td>\n",
       "    </tr>\n",
       "    <tr>\n",
       "      <th>97</th>\n",
       "      <td>98</td>\n",
       "      <td>Dancing With The Devil</td>\n",
       "      <td>Demi Lovato</td>\n",
       "    </tr>\n",
       "    <tr>\n",
       "      <th>98</th>\n",
       "      <td>99</td>\n",
       "      <td>Gone</td>\n",
       "      <td>Dierks Bentley</td>\n",
       "    </tr>\n",
       "    <tr>\n",
       "      <th>99</th>\n",
       "      <td>100</td>\n",
       "      <td>Real As It Gets</td>\n",
       "      <td>Lil Baby Featuring EST Gee</td>\n",
       "    </tr>\n",
       "  </tbody>\n",
       "</table>\n",
       "<p>100 rows × 3 columns</p>\n",
       "</div>"
      ],
      "text/plain": [
       "   ranking                           title  \\\n",
       "0        1                         Rapstar   \n",
       "1        2  Montero (Call Me By Your Name)   \n",
       "2        3             Leave The Door Open   \n",
       "3        4                         Peaches   \n",
       "4        5                 Save Your Tears   \n",
       "..     ...                             ...   \n",
       "95      96                    One Too Many   \n",
       "96      97                   Wasted On You   \n",
       "97      98          Dancing With The Devil   \n",
       "98      99                            Gone   \n",
       "99     100                 Real As It Gets   \n",
       "\n",
       "                                            artist  \n",
       "0                                           Polo G  \n",
       "1                                        Lil Nas X  \n",
       "2         Silk Sonic (Bruno Mars & Anderson .Paak)  \n",
       "3   Justin Bieber Featuring Daniel Caesar & Giveon  \n",
       "4                                       The Weeknd  \n",
       "..                                             ...  \n",
       "95                      Keith Urban Duet With P!nk  \n",
       "96                                   Morgan Wallen  \n",
       "97                                     Demi Lovato  \n",
       "98                                  Dierks Bentley  \n",
       "99                      Lil Baby Featuring EST Gee  \n",
       "\n",
       "[100 rows x 3 columns]"
      ]
     },
     "execution_count": 8,
     "metadata": {},
     "output_type": "execute_result"
    }
   ],
   "source": [
    "songs"
   ]
  },
  {
   "cell_type": "code",
   "execution_count": 18,
   "id": "material-network",
   "metadata": {
    "scrolled": true
   },
   "outputs": [
    {
     "ename": "KeyError",
     "evalue": "False",
     "output_type": "error",
     "traceback": [
      "\u001b[0;31m---------------------------------------------------------------------------\u001b[0m",
      "\u001b[0;31mKeyError\u001b[0m                                  Traceback (most recent call last)",
      "\u001b[0;32m<ipython-input-18-b906c446a5af>\u001b[0m in \u001b[0;36m<module>\u001b[0;34m\u001b[0m\n\u001b[0;32m----> 1\u001b[0;31m \u001b[0msongs\u001b[0m\u001b[0;34m[\u001b[0m\u001b[0;34m'title'\u001b[0m\u001b[0;34m]\u001b[0m\u001b[0;34m[\u001b[0m\u001b[0;32mFalse\u001b[0m\u001b[0;34m]\u001b[0m\u001b[0;34m.\u001b[0m\u001b[0mcount\u001b[0m\u001b[0;34m(\u001b[0m\u001b[0;34m)\u001b[0m\u001b[0;34m\u001b[0m\u001b[0;34m\u001b[0m\u001b[0m\n\u001b[0m",
      "\u001b[0;32m/usr/local/Cellar/jupyterlab/3.0.9/libexec/lib/python3.9/site-packages/pandas/core/series.py\u001b[0m in \u001b[0;36m__getitem__\u001b[0;34m(self, key)\u001b[0m\n\u001b[1;32m    851\u001b[0m \u001b[0;34m\u001b[0m\u001b[0m\n\u001b[1;32m    852\u001b[0m         \u001b[0;32melif\u001b[0m \u001b[0mkey_is_scalar\u001b[0m\u001b[0;34m:\u001b[0m\u001b[0;34m\u001b[0m\u001b[0;34m\u001b[0m\u001b[0m\n\u001b[0;32m--> 853\u001b[0;31m             \u001b[0;32mreturn\u001b[0m \u001b[0mself\u001b[0m\u001b[0;34m.\u001b[0m\u001b[0m_get_value\u001b[0m\u001b[0;34m(\u001b[0m\u001b[0mkey\u001b[0m\u001b[0;34m)\u001b[0m\u001b[0;34m\u001b[0m\u001b[0;34m\u001b[0m\u001b[0m\n\u001b[0m\u001b[1;32m    854\u001b[0m \u001b[0;34m\u001b[0m\u001b[0m\n\u001b[1;32m    855\u001b[0m         \u001b[0;32mif\u001b[0m \u001b[0mis_hashable\u001b[0m\u001b[0;34m(\u001b[0m\u001b[0mkey\u001b[0m\u001b[0;34m)\u001b[0m\u001b[0;34m:\u001b[0m\u001b[0;34m\u001b[0m\u001b[0;34m\u001b[0m\u001b[0m\n",
      "\u001b[0;32m/usr/local/Cellar/jupyterlab/3.0.9/libexec/lib/python3.9/site-packages/pandas/core/series.py\u001b[0m in \u001b[0;36m_get_value\u001b[0;34m(self, label, takeable)\u001b[0m\n\u001b[1;32m    959\u001b[0m \u001b[0;34m\u001b[0m\u001b[0m\n\u001b[1;32m    960\u001b[0m         \u001b[0;31m# Similar to Index.get_value, but we do not fall back to positional\u001b[0m\u001b[0;34m\u001b[0m\u001b[0;34m\u001b[0m\u001b[0;34m\u001b[0m\u001b[0m\n\u001b[0;32m--> 961\u001b[0;31m         \u001b[0mloc\u001b[0m \u001b[0;34m=\u001b[0m \u001b[0mself\u001b[0m\u001b[0;34m.\u001b[0m\u001b[0mindex\u001b[0m\u001b[0;34m.\u001b[0m\u001b[0mget_loc\u001b[0m\u001b[0;34m(\u001b[0m\u001b[0mlabel\u001b[0m\u001b[0;34m)\u001b[0m\u001b[0;34m\u001b[0m\u001b[0;34m\u001b[0m\u001b[0m\n\u001b[0m\u001b[1;32m    962\u001b[0m         \u001b[0;32mreturn\u001b[0m \u001b[0mself\u001b[0m\u001b[0;34m.\u001b[0m\u001b[0mindex\u001b[0m\u001b[0;34m.\u001b[0m\u001b[0m_get_values_for_loc\u001b[0m\u001b[0;34m(\u001b[0m\u001b[0mself\u001b[0m\u001b[0;34m,\u001b[0m \u001b[0mloc\u001b[0m\u001b[0;34m,\u001b[0m \u001b[0mlabel\u001b[0m\u001b[0;34m)\u001b[0m\u001b[0;34m\u001b[0m\u001b[0;34m\u001b[0m\u001b[0m\n\u001b[1;32m    963\u001b[0m \u001b[0;34m\u001b[0m\u001b[0m\n",
      "\u001b[0;32m/usr/local/Cellar/jupyterlab/3.0.9/libexec/lib/python3.9/site-packages/pandas/core/indexes/range.py\u001b[0m in \u001b[0;36mget_loc\u001b[0;34m(self, key, method, tolerance)\u001b[0m\n\u001b[1;32m    352\u001b[0m                 \u001b[0;32mexcept\u001b[0m \u001b[0mValueError\u001b[0m \u001b[0;32mas\u001b[0m \u001b[0merr\u001b[0m\u001b[0;34m:\u001b[0m\u001b[0;34m\u001b[0m\u001b[0;34m\u001b[0m\u001b[0m\n\u001b[1;32m    353\u001b[0m                     \u001b[0;32mraise\u001b[0m \u001b[0mKeyError\u001b[0m\u001b[0;34m(\u001b[0m\u001b[0mkey\u001b[0m\u001b[0;34m)\u001b[0m \u001b[0;32mfrom\u001b[0m \u001b[0merr\u001b[0m\u001b[0;34m\u001b[0m\u001b[0;34m\u001b[0m\u001b[0m\n\u001b[0;32m--> 354\u001b[0;31m             \u001b[0;32mraise\u001b[0m \u001b[0mKeyError\u001b[0m\u001b[0;34m(\u001b[0m\u001b[0mkey\u001b[0m\u001b[0;34m)\u001b[0m\u001b[0;34m\u001b[0m\u001b[0;34m\u001b[0m\u001b[0m\n\u001b[0m\u001b[1;32m    355\u001b[0m         \u001b[0;32mreturn\u001b[0m \u001b[0msuper\u001b[0m\u001b[0;34m(\u001b[0m\u001b[0;34m)\u001b[0m\u001b[0;34m.\u001b[0m\u001b[0mget_loc\u001b[0m\u001b[0;34m(\u001b[0m\u001b[0mkey\u001b[0m\u001b[0;34m,\u001b[0m \u001b[0mmethod\u001b[0m\u001b[0;34m=\u001b[0m\u001b[0mmethod\u001b[0m\u001b[0;34m,\u001b[0m \u001b[0mtolerance\u001b[0m\u001b[0;34m=\u001b[0m\u001b[0mtolerance\u001b[0m\u001b[0;34m)\u001b[0m\u001b[0;34m\u001b[0m\u001b[0;34m\u001b[0m\u001b[0m\n\u001b[1;32m    356\u001b[0m \u001b[0;34m\u001b[0m\u001b[0m\n",
      "\u001b[0;31mKeyError\u001b[0m: False"
     ]
    }
   ],
   "source": [
    "songs['title'][False].count()"
   ]
  },
  {
   "cell_type": "code",
   "execution_count": null,
   "id": "gross-retailer",
   "metadata": {},
   "outputs": [],
   "source": [
    "def check(x):\n",
    "    if data['Song Title'][data['Song Title']==x].count() > 0:\n",
    "        display(data[data['Song Title']==x])\n",
    "    else:\n",
    "        print('Not in the Top 100! Check another song')"
   ]
  },
  {
   "cell_type": "code",
   "execution_count": null,
   "id": "immune-category",
   "metadata": {},
   "outputs": [],
   "source": [
    "while True:\n",
    "    user_song = input()\n",
    "    check(user_song)\n",
    "\n",
    "def check(x):\n",
    "    if x not in songs['title']:\n",
    "        print('This son is in the hot list')\n",
    "    else: print('We could not find this in the list')\n",
    "        \n"
   ]
  },
  {
   "cell_type": "code",
   "execution_count": null,
   "id": "induced-robinson",
   "metadata": {},
   "outputs": [],
   "source": [
    "import random\n",
    "\n",
    "while True:\n",
    "    user_input = input(\"Enter your favorite song : \")\n",
    "    print('')\n",
    "    is_valid = False\n",
    "\n",
    "    if user_input not in title:\n",
    "        print(\"Please choose another song! \")\n",
    "        print('')\n",
    "        continue\n",
    "\n",
    "    else:\n",
    "        is_valid = True\n",
    "        print('Here is your song recommendation:')\n",
    "        break\n",
    "        \n",
    "if(is_valid):\n",
    "    print(random.choice(title))"
   ]
  },
  {
   "cell_type": "code",
   "execution_count": 19,
   "id": "junior-latino",
   "metadata": {},
   "outputs": [],
   "source": [
    "#funcion\n",
    "def check(x):\n",
    "    if songs['title'][songs['title']==x].count() > 0:\n",
    "        print('This song is in the HOT LIST!')\n",
    "    else:\n",
    "        print('We could NOT found this in the hot list!')"
   ]
  },
  {
   "cell_type": "code",
   "execution_count": null,
   "id": "accompanied-press",
   "metadata": {},
   "outputs": [
    {
     "name": "stdout",
     "output_type": "stream",
     "text": [
      "hello\n",
      "\n"
     ]
    }
   ],
   "source": [
    "while True:\n",
    "    song_title = input()\n",
    "    check(song_title)"
   ]
  }
 ],
 "metadata": {
  "kernelspec": {
   "display_name": "Python 3",
   "language": "python",
   "name": "python3"
  },
  "language_info": {
   "codemirror_mode": {
    "name": "ipython",
    "version": 3
   },
   "file_extension": ".py",
   "mimetype": "text/x-python",
   "name": "python",
   "nbconvert_exporter": "python",
   "pygments_lexer": "ipython3",
   "version": "3.9.2"
  }
 },
 "nbformat": 4,
 "nbformat_minor": 5
}
